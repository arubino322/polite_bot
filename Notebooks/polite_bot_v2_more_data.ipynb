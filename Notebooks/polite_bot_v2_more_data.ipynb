{
 "cells": [
  {
   "cell_type": "code",
   "execution_count": 1,
   "metadata": {},
   "outputs": [],
   "source": [
    "import json\n",
    "import re\n",
    "import pandas as pd\n",
    "import numpy as np\n",
    "import random\n",
    "import nltk\n",
    "import codecs\n",
    "import io\n",
    "import pickle\n",
    "import seaborn as sns\n",
    "\n",
    "from textblob import TextBlob\n",
    "from wordcloud import WordCloud\n",
    "from matplotlib import pyplot as plt\n",
    "from nltk.tokenize import word_tokenize\n",
    "from nltk.corpus import stopwords\n",
    "from nltk.stem import PorterStemmer\n",
    "\n",
    "#Extracting features from text, define target y and data X\n",
    "from sklearn.naive_bayes import MultinomialNB\n",
    "from sklearn.feature_extraction.text import TfidfVectorizer\n",
    "from sklearn import metrics\n",
    "\n",
    "\n",
    "%matplotlib inline"
   ]
  },
  {
   "cell_type": "markdown",
   "metadata": {},
   "source": [
    "# First, let's load all of the training data that we want to use. This includes:\n",
    "\n",
    "- Short movie reviews\n",
    "- Airline reviews\n",
    "- Yelp reviews\n",
    "- Amazon reviews\n",
    "- Data from this study: https://cs.stanford.edu/people/alecmgo/papers/TwitterDistantSupervision09.pdf, which took tweets and calssified positive/negative based on the emojis.\n",
    "\n",
    "I realize that the semantics isn't going to be identical to subway tweet replies, but language is language - hopefully we have good enough information to classify positive or negative.\n",
    "\n",
    "Side thought: why am I classifying language? So I can classify if it's pos/neg, but we probably want to know _how_ pos/neg the tweet is. The model will classify some not-so-negative replies as negative, and we don't want to tell people who aren't impolite to be polite.\n",
    "\n",
    "How do I do this? After classifying as positive or negative, do I assign it a score? What's the point of classifying if I can just use NLTK SentimentAnalyzer from the get-go?\n",
    "\n",
    "Maybe after categorizing as pos/neg, we flag tweets for certain words. Then based on the words and the level of positive/negativity, we determine what our response is. Again...we might not need to build a classifier for this, but let's do it for shit's and giggles anyway.\n",
    "\n",
    "### The challenge:\n",
    "All this data is formatted differently, so we want to go through each file and preprocess them so that they are the same.\n",
    "\n",
    "We also want to clean up the tweets probably the most. How do we handle words that are in CAPS, or emphatic uses of repetitive worddddddds, or emoji's?\n",
    "\n",
    "Let's combine them so they have 3 main columns: source, post-processed tweet, pos or neg\n",
    "\n",
    "\n",
    "### The steps:\n",
    "1. Transform dataset\n",
    "    a. read, remove urls and punctuations, stem the words, created cleaned_tweets and sentiment columns\n",
    "    b. Shuffle dataset\n",
    "2. SKLEARN\n",
    "3. NLTK"
   ]
  },
  {
   "cell_type": "markdown",
   "metadata": {},
   "source": [
    "### Short movie reviews"
   ]
  },
  {
   "cell_type": "code",
   "execution_count": 2,
   "metadata": {
    "scrolled": true
   },
   "outputs": [
    {
     "name": "stdout",
     "output_type": "stream",
     "text": [
      "10662\n",
      "(10662, 3)\n"
     ]
    }
   ],
   "source": [
    "# Transform\n",
    "\n",
    "short_pos = io.open(\"../data/training_data/short_positive_movie_reviews.txt\", \"r\", encoding=\"latin-1\").read()\n",
    "short_neg = io.open(\"../data/training_data/short_negative_movie_reviews.txt\", \"r\", encoding=\"latin-1\").read()\n",
    "\n",
    "all_reviews = []\n",
    "\n",
    "stop_words = set(stopwords.words(\"english\"))\n",
    "ps = PorterStemmer()\n",
    "\n",
    "## NOTE: BE CAREFUL THAT THE REGEX REMOVING PUNCTUATIONS ISN'T REMOVING TOO MUCH\n",
    "# Let's also do some stemming to the dataset\n",
    "\n",
    "for i in short_pos.split('\\n'):\n",
    "    # remove punctuations\n",
    "    i = re.sub(r'[^\\w\\s]','',i)\n",
    "    # tokenize the words in the short reviews first\n",
    "    words = word_tokenize(i)\n",
    "    # remove stop words\n",
    "    filtered_pos = [ps.stem(w) for w in words if not w in stop_words]\n",
    "    all_reviews.append((' '.join(filtered_pos), \"positive\"))\n",
    "    \n",
    "for i in short_neg.split('\\n'):\n",
    "    # remove punctuations\n",
    "    i = re.sub(r'[^\\w\\s]','',i)    \n",
    "    # tokenize the words in the short reviews first\n",
    "    words = word_tokenize(i)\n",
    "    \n",
    "    # remove stop words\n",
    "    filtered_neg = [ps.stem(w) for w in words if not w in stop_words]\n",
    "    all_reviews.append((' '.join(filtered_neg), \"negative\"))\n",
    "    \n",
    "print(len(all_reviews))\n",
    "\n",
    "smr_df = pd.DataFrame(all_reviews, columns=['cleaned_tweets', 'sentiment'])\n",
    "# shuffle dataframe\n",
    "smr_df = smr_df.sample(frac=1).reset_index(drop=True)\n",
    "smr_df['source'] = 'short_movie_reviews'\n",
    "print(smr_df.shape)"
   ]
  },
  {
   "cell_type": "code",
   "execution_count": 3,
   "metadata": {},
   "outputs": [
    {
     "data": {
      "text/html": [
       "<div>\n",
       "<style scoped>\n",
       "    .dataframe tbody tr th:only-of-type {\n",
       "        vertical-align: middle;\n",
       "    }\n",
       "\n",
       "    .dataframe tbody tr th {\n",
       "        vertical-align: top;\n",
       "    }\n",
       "\n",
       "    .dataframe thead th {\n",
       "        text-align: right;\n",
       "    }\n",
       "</style>\n",
       "<table border=\"1\" class=\"dataframe\">\n",
       "  <thead>\n",
       "    <tr style=\"text-align: right;\">\n",
       "      <th></th>\n",
       "      <th>cleaned_tweets</th>\n",
       "      <th>sentiment</th>\n",
       "      <th>source</th>\n",
       "    </tr>\n",
       "  </thead>\n",
       "  <tbody>\n",
       "    <tr>\n",
       "      <th>4068</th>\n",
       "      <td>muckrak job cinemat equival legal indict fairl...</td>\n",
       "      <td>positive</td>\n",
       "      <td>short_movie_reviews</td>\n",
       "    </tr>\n",
       "    <tr>\n",
       "      <th>1910</th>\n",
       "      <td>could first major studio product shot video ta...</td>\n",
       "      <td>positive</td>\n",
       "      <td>short_movie_reviews</td>\n",
       "    </tr>\n",
       "    <tr>\n",
       "      <th>8145</th>\n",
       "      <td>loathsom movi realli make absolut sens</td>\n",
       "      <td>negative</td>\n",
       "      <td>short_movie_reviews</td>\n",
       "    </tr>\n",
       "    <tr>\n",
       "      <th>2009</th>\n",
       "      <td>martyr get royal screw come back</td>\n",
       "      <td>positive</td>\n",
       "      <td>short_movie_reviews</td>\n",
       "    </tr>\n",
       "    <tr>\n",
       "      <th>6384</th>\n",
       "      <td>score point dedic goodheart profession</td>\n",
       "      <td>positive</td>\n",
       "      <td>short_movie_reviews</td>\n",
       "    </tr>\n",
       "    <tr>\n",
       "      <th>4822</th>\n",
       "      <td>strident ineleg messagemovi postur</td>\n",
       "      <td>negative</td>\n",
       "      <td>short_movie_reviews</td>\n",
       "    </tr>\n",
       "    <tr>\n",
       "      <th>3836</th>\n",
       "      <td>hourandahalf inoffens unmemor filler</td>\n",
       "      <td>negative</td>\n",
       "      <td>short_movie_reviews</td>\n",
       "    </tr>\n",
       "    <tr>\n",
       "      <th>8582</th>\n",
       "      <td>summer entertain adult see without feel embarr...</td>\n",
       "      <td>positive</td>\n",
       "      <td>short_movie_reviews</td>\n",
       "    </tr>\n",
       "    <tr>\n",
       "      <th>6397</th>\n",
       "      <td>supposedli authent account histor event that f...</td>\n",
       "      <td>negative</td>\n",
       "      <td>short_movie_reviews</td>\n",
       "    </tr>\n",
       "    <tr>\n",
       "      <th>4315</th>\n",
       "      <td>although lace humor fanci touch film refreshin...</td>\n",
       "      <td>positive</td>\n",
       "      <td>short_movie_reviews</td>\n",
       "    </tr>\n",
       "  </tbody>\n",
       "</table>\n",
       "</div>"
      ],
      "text/plain": [
       "                                         cleaned_tweets sentiment  \\\n",
       "4068  muckrak job cinemat equival legal indict fairl...  positive   \n",
       "1910  could first major studio product shot video ta...  positive   \n",
       "8145             loathsom movi realli make absolut sens  negative   \n",
       "2009                   martyr get royal screw come back  positive   \n",
       "6384             score point dedic goodheart profession  positive   \n",
       "4822                 strident ineleg messagemovi postur  negative   \n",
       "3836               hourandahalf inoffens unmemor filler  negative   \n",
       "8582  summer entertain adult see without feel embarr...  positive   \n",
       "6397  supposedli authent account histor event that f...  negative   \n",
       "4315  although lace humor fanci touch film refreshin...  positive   \n",
       "\n",
       "                   source  \n",
       "4068  short_movie_reviews  \n",
       "1910  short_movie_reviews  \n",
       "8145  short_movie_reviews  \n",
       "2009  short_movie_reviews  \n",
       "6384  short_movie_reviews  \n",
       "4822  short_movie_reviews  \n",
       "3836  short_movie_reviews  \n",
       "8582  short_movie_reviews  \n",
       "6397  short_movie_reviews  \n",
       "4315  short_movie_reviews  "
      ]
     },
     "execution_count": 3,
     "metadata": {},
     "output_type": "execute_result"
    }
   ],
   "source": [
    "smr_df.sample(10)"
   ]
  },
  {
   "cell_type": "code",
   "execution_count": 38,
   "metadata": {},
   "outputs": [
    {
     "data": {
      "text/plain": [
       "negative    5331\n",
       "positive    5331\n",
       "Name: sentiment, dtype: int64"
      ]
     },
     "execution_count": 38,
     "metadata": {},
     "output_type": "execute_result"
    }
   ],
   "source": [
    "smr_df.sentiment.value_counts()"
   ]
  },
  {
   "cell_type": "markdown",
   "metadata": {},
   "source": [
    "#### Sklearn"
   ]
  },
  {
   "cell_type": "code",
   "execution_count": 48,
   "metadata": {},
   "outputs": [],
   "source": [
    "# let's do the damn thang\n",
    "# create a function, maybe add a parameter to account for max_features\n",
    "\n",
    "def sklearn_naive_bayes(train, cat, n_features):\n",
    "    vect = TfidfVectorizer(ngram_range=(1, 2), max_features=n_features)\n",
    "    X = vect.fit_transform(train)\n",
    "    y = cat\n",
    "\n",
    "    #Partitioning the data into test and training set\n",
    "    SPLIT_PERC = 0.75\n",
    "    split_size = int(len(y)*SPLIT_PERC)\n",
    "\n",
    "    X_train = X[:split_size]\n",
    "    X_test = X[split_size:]\n",
    "    y_train = y[:split_size]\n",
    "    y_test = y[split_size:]\n",
    "\n",
    "    #Training the model\n",
    "    clf = MultinomialNB()\n",
    "    clf.fit(X_train, y_train)\n",
    "\n",
    "    #Evaluating the results\n",
    "    print(\"Accuracy on training set:\")\n",
    "    print(clf.score(X_train, y_train))\n",
    "    print(\"Accuracy on testing set:\")\n",
    "    print(clf.score(X_test, y_test))\n",
    "    y_pred = clf.predict(X_test)\n",
    "    print(\"Classification Report:\")\n",
    "    print(metrics.classification_report(y_test, y_pred))"
   ]
  },
  {
   "cell_type": "code",
   "execution_count": 49,
   "metadata": {},
   "outputs": [
    {
     "name": "stdout",
     "output_type": "stream",
     "text": [
      "Accuracy on training set:\n",
      "0.7717608804402201\n",
      "Accuracy on testing set:\n",
      "0.7291822955738935\n",
      "Classification Report:\n",
      "              precision    recall  f1-score   support\n",
      "\n",
      "    negative       0.72      0.73      0.73      1305\n",
      "    positive       0.74      0.73      0.73      1361\n",
      "\n",
      "   micro avg       0.73      0.73      0.73      2666\n",
      "   macro avg       0.73      0.73      0.73      2666\n",
      "weighted avg       0.73      0.73      0.73      2666\n",
      "\n"
     ]
    }
   ],
   "source": [
    "sklearn_naive_bayes(smr_df['cleaned_tweets'], smr_df['sentiment'], 1000)"
   ]
  },
  {
   "cell_type": "markdown",
   "metadata": {},
   "source": [
    "^^ why *was* this accuracy so bad?? BECAUSE max_features was set to be so high. I think it caused some overfitting.\n",
    "\n",
    "the first step of appending lines to a list is VERY slow. maybe do the processes separately, i.e., created a column where the tweets are split, and then zip them together with sentiment.\n",
    "\n",
    "#### NLTK\n",
    "Note that I'm only using unigrams for NLTK cuz I haven't figured out how to use bigrams with it"
   ]
  },
  {
   "cell_type": "code",
   "execution_count": 6,
   "metadata": {
    "collapsed": true
   },
   "outputs": [],
   "source": [
    "def nltk_naive_bayes(df, n_features):\n",
    "\n",
    "    # split the cleaned_tweets column\n",
    "    df['split_tweets'] = df.cleaned_tweets.apply(lambda x: x.split())\n",
    "    all_reviews = zip(df.split_tweets, df.sentiment)\n",
    "\n",
    "    all_tweets = ' '.join(df['cleaned_tweets']).split()\n",
    "\n",
    "    freq_tweets = nltk.FreqDist(all_tweets)\n",
    "    print('The top 50 most common words are:')\n",
    "    print(freq_tweets.most_common(50))\n",
    "\n",
    "    word_features = [w[0] for w in freq_tweets.most_common(n_features)]\n",
    "    # as we can see, there are a lot of stop words in this list. we should consider\n",
    "    # removing the stop words to get better word features, but for now let's leave them in.\n",
    "    \n",
    "    def find_features(document):\n",
    "        words = set(document)\n",
    "        features = {}\n",
    "        for w in word_features:\n",
    "            features[w] = (w in words)\n",
    "\n",
    "        return features\n",
    "\n",
    "    featuresets = [(find_features(rev), category) for (rev, category) in all_reviews]\n",
    "\n",
    "    training_set = featuresets[:int(len(featuresets)*.75)]\n",
    "    testing_set = featuresets[int(len(featuresets)*.75):]\n",
    "\n",
    "\n",
    "    # This is the algorithm calculation:\n",
    "    # posterior = prior occurences x likelihood / evidence\n",
    "    # the above gives us the likelihood of something to be positive (or negative). It's not the best algorithm,\n",
    "    # but it's scalable and easy to use\n",
    "\n",
    "    classifier = nltk.NaiveBayesClassifier.train(training_set)\n",
    "    print(\"Naive Bayes Algo accuracy:\", (nltk.classify.accuracy(classifier, testing_set))*100)\n",
    "    classifier.show_most_informative_features(25)"
   ]
  },
  {
   "cell_type": "code",
   "execution_count": 8,
   "metadata": {},
   "outputs": [
    {
     "name": "stdout",
     "output_type": "stream",
     "text": [
      "The top 50 most common words are:\n",
      "[(u'film', 1804), (u'movi', 1544), (u'like', 805), (u'one', 763), (u'make', 611), (u'stori', 536), (u'charact', 483), (u'time', 466), (u'comedi', 392), (u'good', 389), (u'even', 388), (u'much', 386), (u'work', 368), (u'perform', 359), (u'feel', 337), (u'way', 336), (u'get', 310), (u'littl', 302), (u'love', 296), (u'look', 294), (u'funni', 285), (u'director', 274), (u'enough', 267), (u'never', 262), (u'take', 249), (u'may', 245), (u'come', 242), (u'us', 241), (u'seem', 240), (u'thing', 240), (u'bad', 238), (u'best', 237), (u'life', 232), (u'doesnt', 232), (u'see', 231), (u'end', 231), (u'entertain', 231), (u'watch', 226), (u'would', 222), (u'well', 220), (u'plot', 212), (u'there', 211), (u'new', 207), (u'go', 201), (u'interest', 200), (u'someth', 200), (u'could', 199), (u'year', 198), (u'realli', 197), (u'audienc', 196)]\n",
      "('Naive Bayes Algo accuracy:', 71.23030757689422)\n",
      "Most Informative Features\n",
      "                    flat = True           negati : positi =     18.5 : 1.0\n",
      "                pretenti = True           negati : positi =     16.5 : 1.0\n",
      "                 engross = True           positi : negati =     15.5 : 1.0\n",
      "                   bland = True           negati : positi =     11.1 : 1.0\n",
      "                  stupid = True           negati : positi =     10.7 : 1.0\n",
      "                    bore = True           negati : positi =     10.6 : 1.0\n",
      "                  remind = True           positi : negati =     10.5 : 1.0\n",
      "                    tire = True           negati : positi =      9.5 : 1.0\n",
      "              comingofag = True           positi : negati =      9.3 : 1.0\n",
      "                    wast = True           negati : positi =      9.1 : 1.0\n",
      "                  routin = True           negati : positi =      8.7 : 1.0\n",
      "                   chase = True           negati : positi =      8.4 : 1.0\n",
      "                    ugli = True           negati : positi =      8.3 : 1.0\n",
      "                 mediocr = True           negati : positi =      8.3 : 1.0\n",
      "                    wors = True           negati : positi =      8.3 : 1.0\n",
      "                    dull = True           negati : positi =      7.8 : 1.0\n",
      "                     bad = True           negati : positi =      7.8 : 1.0\n",
      "                  examin = True           positi : negati =      7.8 : 1.0\n",
      "                   quiet = True           positi : negati =      7.7 : 1.0\n",
      "                  suppos = True           negati : positi =      7.1 : 1.0\n",
      "                   worst = True           negati : positi =      7.1 : 1.0\n",
      "                   gentl = True           positi : negati =      6.9 : 1.0\n",
      "                    flaw = True           positi : negati =      6.9 : 1.0\n",
      "                 gorgeou = True           positi : negati =      6.6 : 1.0\n",
      "                    joke = True           negati : positi =      6.6 : 1.0\n"
     ]
    }
   ],
   "source": [
    "nltk_naive_bayes(smr_df, 800)"
   ]
  },
  {
   "cell_type": "markdown",
   "metadata": {},
   "source": [
    "#### GREAT! OK. Let's make some functions so we can reproduce these steps with the other datasets\n",
    "\n",
    "It might be worth doing some sort of gridsearch to find the point of diminishing returns for number of features to include in your model"
   ]
  },
  {
   "cell_type": "markdown",
   "metadata": {},
   "source": [
    "### Airline reviews"
   ]
  },
  {
   "cell_type": "code",
   "execution_count": 7,
   "metadata": {},
   "outputs": [
    {
     "name": "stdout",
     "output_type": "stream",
     "text": [
      "(14640, 15)\n"
     ]
    },
    {
     "data": {
      "text/html": [
       "<div>\n",
       "<style>\n",
       "    .dataframe thead tr:only-child th {\n",
       "        text-align: right;\n",
       "    }\n",
       "\n",
       "    .dataframe thead th {\n",
       "        text-align: left;\n",
       "    }\n",
       "\n",
       "    .dataframe tbody tr th {\n",
       "        vertical-align: top;\n",
       "    }\n",
       "</style>\n",
       "<table border=\"1\" class=\"dataframe\">\n",
       "  <thead>\n",
       "    <tr style=\"text-align: right;\">\n",
       "      <th></th>\n",
       "      <th>tweet_id</th>\n",
       "      <th>airline_sentiment</th>\n",
       "      <th>airline_sentiment_confidence</th>\n",
       "      <th>negativereason</th>\n",
       "      <th>negativereason_confidence</th>\n",
       "      <th>airline</th>\n",
       "      <th>airline_sentiment_gold</th>\n",
       "      <th>name</th>\n",
       "      <th>negativereason_gold</th>\n",
       "      <th>retweet_count</th>\n",
       "      <th>text</th>\n",
       "      <th>tweet_coord</th>\n",
       "      <th>tweet_created</th>\n",
       "      <th>tweet_location</th>\n",
       "      <th>user_timezone</th>\n",
       "    </tr>\n",
       "  </thead>\n",
       "  <tbody>\n",
       "    <tr>\n",
       "      <th>0</th>\n",
       "      <td>570306133677760513</td>\n",
       "      <td>neutral</td>\n",
       "      <td>1.0000</td>\n",
       "      <td>NaN</td>\n",
       "      <td>NaN</td>\n",
       "      <td>Virgin America</td>\n",
       "      <td>NaN</td>\n",
       "      <td>cairdin</td>\n",
       "      <td>NaN</td>\n",
       "      <td>0</td>\n",
       "      <td>@VirginAmerica What @dhepburn said.</td>\n",
       "      <td>NaN</td>\n",
       "      <td>2015-02-24 11:35:52 -0800</td>\n",
       "      <td>NaN</td>\n",
       "      <td>Eastern Time (US &amp; Canada)</td>\n",
       "    </tr>\n",
       "    <tr>\n",
       "      <th>1</th>\n",
       "      <td>570301130888122368</td>\n",
       "      <td>positive</td>\n",
       "      <td>0.3486</td>\n",
       "      <td>NaN</td>\n",
       "      <td>0.0000</td>\n",
       "      <td>Virgin America</td>\n",
       "      <td>NaN</td>\n",
       "      <td>jnardino</td>\n",
       "      <td>NaN</td>\n",
       "      <td>0</td>\n",
       "      <td>@VirginAmerica plus you've added commercials t...</td>\n",
       "      <td>NaN</td>\n",
       "      <td>2015-02-24 11:15:59 -0800</td>\n",
       "      <td>NaN</td>\n",
       "      <td>Pacific Time (US &amp; Canada)</td>\n",
       "    </tr>\n",
       "    <tr>\n",
       "      <th>2</th>\n",
       "      <td>570301083672813571</td>\n",
       "      <td>neutral</td>\n",
       "      <td>0.6837</td>\n",
       "      <td>NaN</td>\n",
       "      <td>NaN</td>\n",
       "      <td>Virgin America</td>\n",
       "      <td>NaN</td>\n",
       "      <td>yvonnalynn</td>\n",
       "      <td>NaN</td>\n",
       "      <td>0</td>\n",
       "      <td>@VirginAmerica I didn't today... Must mean I n...</td>\n",
       "      <td>NaN</td>\n",
       "      <td>2015-02-24 11:15:48 -0800</td>\n",
       "      <td>Lets Play</td>\n",
       "      <td>Central Time (US &amp; Canada)</td>\n",
       "    </tr>\n",
       "    <tr>\n",
       "      <th>3</th>\n",
       "      <td>570301031407624196</td>\n",
       "      <td>negative</td>\n",
       "      <td>1.0000</td>\n",
       "      <td>Bad Flight</td>\n",
       "      <td>0.7033</td>\n",
       "      <td>Virgin America</td>\n",
       "      <td>NaN</td>\n",
       "      <td>jnardino</td>\n",
       "      <td>NaN</td>\n",
       "      <td>0</td>\n",
       "      <td>@VirginAmerica it's really aggressive to blast...</td>\n",
       "      <td>NaN</td>\n",
       "      <td>2015-02-24 11:15:36 -0800</td>\n",
       "      <td>NaN</td>\n",
       "      <td>Pacific Time (US &amp; Canada)</td>\n",
       "    </tr>\n",
       "    <tr>\n",
       "      <th>4</th>\n",
       "      <td>570300817074462722</td>\n",
       "      <td>negative</td>\n",
       "      <td>1.0000</td>\n",
       "      <td>Can't Tell</td>\n",
       "      <td>1.0000</td>\n",
       "      <td>Virgin America</td>\n",
       "      <td>NaN</td>\n",
       "      <td>jnardino</td>\n",
       "      <td>NaN</td>\n",
       "      <td>0</td>\n",
       "      <td>@VirginAmerica and it's a really big bad thing...</td>\n",
       "      <td>NaN</td>\n",
       "      <td>2015-02-24 11:14:45 -0800</td>\n",
       "      <td>NaN</td>\n",
       "      <td>Pacific Time (US &amp; Canada)</td>\n",
       "    </tr>\n",
       "  </tbody>\n",
       "</table>\n",
       "</div>"
      ],
      "text/plain": [
       "             tweet_id airline_sentiment  airline_sentiment_confidence  \\\n",
       "0  570306133677760513           neutral                        1.0000   \n",
       "1  570301130888122368          positive                        0.3486   \n",
       "2  570301083672813571           neutral                        0.6837   \n",
       "3  570301031407624196          negative                        1.0000   \n",
       "4  570300817074462722          negative                        1.0000   \n",
       "\n",
       "  negativereason  negativereason_confidence         airline  \\\n",
       "0            NaN                        NaN  Virgin America   \n",
       "1            NaN                     0.0000  Virgin America   \n",
       "2            NaN                        NaN  Virgin America   \n",
       "3     Bad Flight                     0.7033  Virgin America   \n",
       "4     Can't Tell                     1.0000  Virgin America   \n",
       "\n",
       "  airline_sentiment_gold        name negativereason_gold  retweet_count  \\\n",
       "0                    NaN     cairdin                 NaN              0   \n",
       "1                    NaN    jnardino                 NaN              0   \n",
       "2                    NaN  yvonnalynn                 NaN              0   \n",
       "3                    NaN    jnardino                 NaN              0   \n",
       "4                    NaN    jnardino                 NaN              0   \n",
       "\n",
       "                                                text tweet_coord  \\\n",
       "0                @VirginAmerica What @dhepburn said.         NaN   \n",
       "1  @VirginAmerica plus you've added commercials t...         NaN   \n",
       "2  @VirginAmerica I didn't today... Must mean I n...         NaN   \n",
       "3  @VirginAmerica it's really aggressive to blast...         NaN   \n",
       "4  @VirginAmerica and it's a really big bad thing...         NaN   \n",
       "\n",
       "               tweet_created tweet_location               user_timezone  \n",
       "0  2015-02-24 11:35:52 -0800            NaN  Eastern Time (US & Canada)  \n",
       "1  2015-02-24 11:15:59 -0800            NaN  Pacific Time (US & Canada)  \n",
       "2  2015-02-24 11:15:48 -0800      Lets Play  Central Time (US & Canada)  \n",
       "3  2015-02-24 11:15:36 -0800            NaN  Pacific Time (US & Canada)  \n",
       "4  2015-02-24 11:14:45 -0800            NaN  Pacific Time (US & Canada)  "
      ]
     },
     "execution_count": 7,
     "metadata": {},
     "output_type": "execute_result"
    }
   ],
   "source": [
    "# let's take a look at another dataset that we might be able to train with\n",
    "airlines = pd.read_csv('data/training_data/airline_reviews.csv')\n",
    "print(airlines.shape)\n",
    "airlines.head()"
   ]
  },
  {
   "cell_type": "code",
   "execution_count": 8,
   "metadata": {},
   "outputs": [
    {
     "data": {
      "text/plain": [
       "negative    9178\n",
       "neutral     3099\n",
       "positive    2363\n",
       "Name: airline_sentiment, dtype: int64"
      ]
     },
     "execution_count": 8,
     "metadata": {},
     "output_type": "execute_result"
    }
   ],
   "source": [
    "airlines.airline_sentiment.value_counts()"
   ]
  },
  {
   "cell_type": "code",
   "execution_count": 26,
   "metadata": {},
   "outputs": [],
   "source": [
    "# clean tweet with function i found online\n",
    "def clean_tweet(tweet): \n",
    "    ''' \n",
    "    Utility function to clean tweet text by removing links, special characters \n",
    "    using simple regex statements. \n",
    "    '''\n",
    "    x = ' '.join(re.sub(\"(@[A-Za-z0-9]+)|([^0-9A-Za-z \\t]) | (\\w+:\\/\\/\\S+)\", \" \", tweet).split())\n",
    "    cleaned = re.sub(r'[^\\x00-\\x7f]',r'', re.sub(r'https:\\/\\/t.co\\/[A-z0-9]*', '', x))\n",
    "    #take out the hashtags\n",
    "    without_hashtags = re.sub(r'[^\\x00-\\x7f]',r'', re.sub(r'\\#[A-z0-9]*', '', cleaned))\n",
    "    # or you can remove it by applying: .decode('utf8').encode('ascii', errors='ignore')\n",
    "    return without_hashtags\n",
    "\n",
    "# tokenize and shit\n",
    "def tokenize_and_stem(row):\n",
    "    \n",
    "    # remove punctuations\n",
    "    i = re.sub(r'[^\\w\\s]','',row)    \n",
    "    # tokenize the words in the short reviews first\n",
    "    words = word_tokenize(i)\n",
    "    # remove stop words\n",
    "    filtered = [ps.stem(w) for w in words if not w in stop_words]\n",
    "    return ' '.join(filtered)\n",
    "\n"
   ]
  },
  {
   "cell_type": "code",
   "execution_count": null,
   "metadata": {},
   "outputs": [],
   "source": [
    "\n",
    "airlines['cleaned'] = airlines['text'].apply(lambda x: clean_tweet(x))\n",
    "# remove neutral\n",
    "alrlines = airlines.loc[airlines.airline_sentiment != 'neutral']\n",
    "airlines['training_text'] = airlines['cleaned'].apply(lambda x: tokenize_and_stem(x))\n",
    "# make training dataset to append to the master dataset\n",
    "# columns = cleaned_tweets, sentiment, source\n",
    "airlines_df = airlines[['training_text', 'airline_sentiment']]\n",
    "airlines_df.columns = ['cleaned_tweets', 'sentiment']\n",
    "airlines_df['source'] = 'airline_reviews'\n",
    "airlines_df.sample(10)"
   ]
  },
  {
   "cell_type": "markdown",
   "metadata": {},
   "source": [
    "#### Sklearn"
   ]
  },
  {
   "cell_type": "code",
   "execution_count": null,
   "metadata": {},
   "outputs": [],
   "source": []
  },
  {
   "cell_type": "code",
   "execution_count": 12,
   "metadata": {},
   "outputs": [
    {
     "name": "stdout",
     "output_type": "stream",
     "text": [
      "Accuracy on training set:\n",
      "0.75218579235\n",
      "Accuracy on testing set:\n",
      "0.785245901639\n",
      "Classification Report:\n",
      "              precision    recall  f1-score   support\n",
      "\n",
      "    negative       0.80      0.96      0.87      2627\n",
      "     neutral       0.56      0.23      0.32       577\n",
      "    positive       0.81      0.46      0.59       456\n",
      "\n",
      "   micro avg       0.79      0.79      0.79      3660\n",
      "   macro avg       0.73      0.55      0.60      3660\n",
      "weighted avg       0.76      0.79      0.75      3660\n",
      "\n"
     ]
    }
   ],
   "source": [
    "sklearn_naive_bayes(airlines_df['cleaned_tweets'], airlines_df['sentiment'], 1000)"
   ]
  },
  {
   "cell_type": "markdown",
   "metadata": {},
   "source": [
    "# NOTE: WHY IS TRAINING SET ACCURACY LESS THAN TEST SET ACCURACY??"
   ]
  },
  {
   "cell_type": "markdown",
   "metadata": {},
   "source": [
    "#### NLTK"
   ]
  },
  {
   "cell_type": "code",
   "execution_count": 13,
   "metadata": {},
   "outputs": [
    {
     "name": "stderr",
     "output_type": "stream",
     "text": [
      "/Users/andrewrubino/anaconda2/lib/python2.7/site-packages/ipykernel_launcher.py:4: SettingWithCopyWarning: \n",
      "A value is trying to be set on a copy of a slice from a DataFrame.\n",
      "Try using .loc[row_indexer,col_indexer] = value instead\n",
      "\n",
      "See the caveats in the documentation: http://pandas.pydata.org/pandas-docs/stable/indexing.html#indexing-view-versus-copy\n",
      "  after removing the cwd from sys.path.\n"
     ]
    },
    {
     "name": "stdout",
     "output_type": "stream",
     "text": [
      "The top 50 most common words are:\n",
      "[(u'I', 5077), (u'flight', 4775), (u'thank', 1682), (u'get', 1615), (u'hour', 1133), (u'cancel', 1048), (u'help', 1022), (u'servic', 990), (u'delay', 969), (u'time', 960), (u'custom', 933), (u'call', 768), (u'bag', 757), (u'wait', 744), (u'plane', 718), (u'Im', 718), (u'fli', 686), (u'need', 684), (u'hold', 680), (u'2', 643), (u'amp', 638), (u'go', 616), (u'tri', 582), (u'cant', 580), (u'one', 577), (u'still', 572), (u'pleas', 564), (u'would', 548), (u'airlin', 545), (u'day', 542), (u'gate', 539), (u'back', 526), (u'us', 521), (u'flightl', 520), (u'seat', 513), (u'dont', 498), (u'book', 497), (u'make', 479), (u'got', 478), (u'chang', 461), (u'phone', 450), (u'like', 448), (u'check', 434), (u'late', 423), (u'today', 422), (u'guy', 421), (u'agent', 415), (u'work', 407), (u'miss', 404), (u'you', 395)]\n",
      "('Naive Bayes Algo accuracy:', 79.04371584699453)\n",
      "Most Informative Features\n",
      "                    rock = True           positi : negati =     27.9 : 1.0\n",
      "                  awesom = True           positi : negati =     22.9 : 1.0\n",
      "                   stuck = True           negati : positi =     22.2 : 1.0\n",
      "                      hr = True           negati : positi =     21.5 : 1.0\n",
      "              disappoint = True           negati : neutra =     20.7 : 1.0\n",
      "                    amaz = True           positi : negati =     20.2 : 1.0\n",
      "                   great = True           positi : neutra =     18.9 : 1.0\n",
      "                    suck = True           negati : neutra =     18.9 : 1.0\n",
      "                   onlin = True           negati : positi =     18.7 : 1.0\n",
      "                     fix = True           negati : neutra =     18.6 : 1.0\n",
      "                    wall = True           neutra : negati =     15.9 : 1.0\n",
      "                    hold = True           negati : positi =     15.1 : 1.0\n",
      "                    hung = True           negati : neutra =     14.8 : 1.0\n",
      "                    half = True           negati : neutra =     14.0 : 1.0\n",
      "                    hour = True           negati : positi =     13.7 : 1.0\n",
      "                     whi = True           negati : positi =     13.7 : 1.0\n",
      "                   three = True           negati : neutra =     13.0 : 1.0\n",
      "                    rude = True           negati : neutra =     12.9 : 1.0\n",
      "                    wont = True           negati : positi =     12.8 : 1.0\n",
      "                   agent = True           negati : neutra =     12.2 : 1.0\n",
      "                      40 = True           negati : neutra =     12.2 : 1.0\n",
      "                  tarmac = True           negati : positi =     11.9 : 1.0\n",
      "                    lost = True           negati : neutra =     11.9 : 1.0\n",
      "                  despit = True           positi : neutra =     11.9 : 1.0\n",
      "                    haha = True           positi : negati =     11.8 : 1.0\n"
     ]
    }
   ],
   "source": [
    "nltk_naive_bayes(airlines_df, 800)"
   ]
  },
  {
   "cell_type": "markdown",
   "metadata": {},
   "source": [
    "### Yelp Reviews"
   ]
  },
  {
   "cell_type": "code",
   "execution_count": 10,
   "metadata": {},
   "outputs": [
    {
     "name": "stdout",
     "output_type": "stream",
     "text": [
      "(1000, 2)\n"
     ]
    },
    {
     "data": {
      "text/html": [
       "<div>\n",
       "<style>\n",
       "    .dataframe thead tr:only-child th {\n",
       "        text-align: right;\n",
       "    }\n",
       "\n",
       "    .dataframe thead th {\n",
       "        text-align: left;\n",
       "    }\n",
       "\n",
       "    .dataframe tbody tr th {\n",
       "        vertical-align: top;\n",
       "    }\n",
       "</style>\n",
       "<table border=\"1\" class=\"dataframe\">\n",
       "  <thead>\n",
       "    <tr style=\"text-align: right;\">\n",
       "      <th></th>\n",
       "      <th>cleaned_tweets</th>\n",
       "      <th>sentiment</th>\n",
       "      <th>source</th>\n",
       "    </tr>\n",
       "  </thead>\n",
       "  <tbody>\n",
       "    <tr>\n",
       "      <th>752</th>\n",
       "      <td>level 5 spici perfect spice didnt overwhelm soup</td>\n",
       "      <td>positive</td>\n",
       "      <td>yelp</td>\n",
       "    </tr>\n",
       "    <tr>\n",
       "      <th>719</th>\n",
       "      <td>We order old classic new dish go time sore dis...</td>\n",
       "      <td>negative</td>\n",
       "      <td>yelp</td>\n",
       "    </tr>\n",
       "    <tr>\n",
       "      <th>879</th>\n",
       "      <td>now burger arent good pizza use amaz doughi fl...</td>\n",
       "      <td>negative</td>\n",
       "      <td>yelp</td>\n",
       "    </tr>\n",
       "    <tr>\n",
       "      <th>643</th>\n",
       "      <td>mayb werent cold would somewhat edibl</td>\n",
       "      <td>negative</td>\n",
       "      <td>yelp</td>\n",
       "    </tr>\n",
       "    <tr>\n",
       "      <th>742</th>\n",
       "      <td>Im sure long stood long enough begin feel awkw...</td>\n",
       "      <td>negative</td>\n",
       "      <td>yelp</td>\n",
       "    </tr>\n",
       "    <tr>\n",
       "      <th>780</th>\n",
       "      <td>I pretti satifi experi</td>\n",
       "      <td>positive</td>\n",
       "      <td>yelp</td>\n",
       "    </tr>\n",
       "    <tr>\n",
       "      <th>158</th>\n",
       "      <td>place good</td>\n",
       "      <td>positive</td>\n",
       "      <td>yelp</td>\n",
       "    </tr>\n",
       "    <tr>\n",
       "      <th>348</th>\n",
       "      <td>5 star brick oven bread app</td>\n",
       "      <td>positive</td>\n",
       "      <td>yelp</td>\n",
       "    </tr>\n",
       "    <tr>\n",
       "      <th>918</th>\n",
       "      <td>they brought fresh batch fri I think yay somet...</td>\n",
       "      <td>negative</td>\n",
       "      <td>yelp</td>\n",
       "    </tr>\n",
       "    <tr>\n",
       "      <th>754</th>\n",
       "      <td>main thing I didnt enjoy crowd older crowd aro...</td>\n",
       "      <td>negative</td>\n",
       "      <td>yelp</td>\n",
       "    </tr>\n",
       "  </tbody>\n",
       "</table>\n",
       "</div>"
      ],
      "text/plain": [
       "                                        cleaned_tweets sentiment source\n",
       "752   level 5 spici perfect spice didnt overwhelm soup  positive   yelp\n",
       "719  We order old classic new dish go time sore dis...  negative   yelp\n",
       "879  now burger arent good pizza use amaz doughi fl...  negative   yelp\n",
       "643              mayb werent cold would somewhat edibl  negative   yelp\n",
       "742  Im sure long stood long enough begin feel awkw...  negative   yelp\n",
       "780                             I pretti satifi experi  positive   yelp\n",
       "158                                         place good  positive   yelp\n",
       "348                        5 star brick oven bread app  positive   yelp\n",
       "918  they brought fresh batch fri I think yay somet...  negative   yelp\n",
       "754  main thing I didnt enjoy crowd older crowd aro...  negative   yelp"
      ]
     },
     "execution_count": 10,
     "metadata": {},
     "output_type": "execute_result"
    }
   ],
   "source": [
    "yelp = pd.read_csv('data/training_data/yelp_labelled.txt', sep=\"\\t\", header=None)\n",
    "yelp.columns = ['review', 'category']\n",
    "print(yelp.shape)\n",
    "\n",
    "# clean, tokenize, etc\n",
    "\n",
    "yelp['cleaned'] = yelp['review'].apply(lambda x: clean_tweet(x))\n",
    "yelp['cleaned_tweets'] = yelp['cleaned'].apply(lambda x: tokenize_and_stem(x))\n",
    "yelp['sentiment'] = np.where(yelp.category == 1, 'positive', 'negative')\n",
    "yelp['source'] = 'yelp'\n",
    "yelp_df = yelp[['cleaned_tweets', 'sentiment', 'source']]\n",
    "yelp_df.sample(10)"
   ]
  },
  {
   "cell_type": "code",
   "execution_count": 9,
   "metadata": {},
   "outputs": [
    {
     "data": {
      "text/plain": [
       "negative    500\n",
       "positive    500\n",
       "Name: sentiment, dtype: int64"
      ]
     },
     "execution_count": 9,
     "metadata": {},
     "output_type": "execute_result"
    }
   ],
   "source": [
    "yelp_df.sentiment.value_counts()"
   ]
  },
  {
   "cell_type": "markdown",
   "metadata": {},
   "source": [
    "#### Sklearn"
   ]
  },
  {
   "cell_type": "code",
   "execution_count": 16,
   "metadata": {},
   "outputs": [
    {
     "name": "stdout",
     "output_type": "stream",
     "text": [
      "Accuracy on training set:\n",
      "0.92\n",
      "Accuracy on testing set:\n",
      "0.704\n",
      "Classification Report:\n",
      "              precision    recall  f1-score   support\n",
      "\n",
      "    negative       0.90      0.64      0.75       173\n",
      "    positive       0.51      0.84      0.64        77\n",
      "\n",
      "   micro avg       0.70      0.70      0.70       250\n",
      "   macro avg       0.71      0.74      0.69       250\n",
      "weighted avg       0.78      0.70      0.72       250\n",
      "\n"
     ]
    }
   ],
   "source": [
    "sklearn_naive_bayes(yelp_df['cleaned_tweets'], yelp_df['sentiment'], 800)"
   ]
  },
  {
   "cell_type": "markdown",
   "metadata": {},
   "source": [
    "#### NLTK"
   ]
  },
  {
   "cell_type": "code",
   "execution_count": 17,
   "metadata": {},
   "outputs": [
    {
     "name": "stdout",
     "output_type": "stream",
     "text": [
      "The top 50 most common words are:\n",
      "[(u'I', 295), (u'the', 179), (u'food', 125), (u'place', 112), (u'good', 95), (u'servic', 84), (u'great', 70), (u'back', 61), (u'go', 58), (u'time', 55), (u'like', 51), (u'thi', 47), (u'realli', 36), (u'We', 34), (u'love', 33), (u'disappoint', 30), (u'best', 30), (u'wait', 29), (u'ever', 28), (u'would', 28), (u'order', 28), (u'restaur', 28), (u'get', 28), (u'It', 28), (u'dont', 28), (u'one', 27), (u'also', 27), (u'never', 26), (u'friendli', 26), (u'eat', 26), (u'nice', 25), (u'delici', 24), (u'amaz', 23), (u'tast', 22), (u'even', 21), (u'My', 21), (u'vega', 21), (u'price', 21), (u'come', 21), (u'Im', 21), (u'came', 20), (u'ive', 20), (u'experi', 20), (u'minut', 19), (u'wont', 19), (u'pretti', 19), (u'us', 19), (u'staff', 19), (u'recommend', 18), (u'pizza', 18)]\n"
     ]
    },
    {
     "name": "stderr",
     "output_type": "stream",
     "text": [
      "/Users/andrewrubino/anaconda2/lib/python2.7/site-packages/ipykernel_launcher.py:4: SettingWithCopyWarning: \n",
      "A value is trying to be set on a copy of a slice from a DataFrame.\n",
      "Try using .loc[row_indexer,col_indexer] = value instead\n",
      "\n",
      "See the caveats in the documentation: http://pandas.pydata.org/pandas-docs/stable/indexing.html#indexing-view-versus-copy\n",
      "  after removing the cwd from sys.path.\n"
     ]
    },
    {
     "name": "stdout",
     "output_type": "stream",
     "text": [
      "('Naive Bayes Algo accuracy:', 74.4)\n",
      "Most Informative Features\n",
      "                    love = True           positi : negati =     13.2 : 1.0\n",
      "                    dont = True           negati : positi =      9.6 : 1.0\n",
      "                    nice = True           positi : negati =      9.5 : 1.0\n",
      "                    amaz = True           positi : negati =      9.0 : 1.0\n",
      "                   worst = True           negati : positi =      8.2 : 1.0\n",
      "                   manag = True           negati : positi =      7.3 : 1.0\n",
      "                   anoth = True           negati : positi =      6.5 : 1.0\n",
      "                    menu = True           positi : negati =      6.4 : 1.0\n",
      "                friendli = True           positi : negati =      6.3 : 1.0\n",
      "                   never = True           negati : positi =      5.6 : 1.0\n",
      "                     got = True           negati : positi =      5.4 : 1.0\n",
      "                    wait = True           negati : positi =      5.4 : 1.0\n",
      "                   think = True           negati : positi =      4.9 : 1.0\n",
      "                   peopl = True           negati : positi =      4.7 : 1.0\n",
      "                    noth = True           negati : positi =      4.7 : 1.0\n",
      "                    look = True           negati : positi =      4.7 : 1.0\n",
      "                     get = True           negati : positi =      4.6 : 1.0\n",
      "               atmospher = True           positi : negati =      4.4 : 1.0\n",
      "                     not = True           negati : positi =      3.9 : 1.0\n",
      "                     old = True           negati : positi =      3.9 : 1.0\n",
      "                   locat = True           negati : positi =      3.9 : 1.0\n",
      "                  review = True           negati : positi =      3.9 : 1.0\n",
      "                    much = True           negati : positi =      3.9 : 1.0\n",
      "                   there = True           negati : positi =      3.9 : 1.0\n",
      "                    leav = True           negati : positi =      3.9 : 1.0\n"
     ]
    }
   ],
   "source": [
    "nltk_naive_bayes(yelp_df, 800)"
   ]
  },
  {
   "cell_type": "markdown",
   "metadata": {},
   "source": [
    "Hmm I'm suspicious about some of the words that are showing up in the most informative features list"
   ]
  },
  {
   "cell_type": "markdown",
   "metadata": {},
   "source": [
    "### Amazon"
   ]
  },
  {
   "cell_type": "code",
   "execution_count": 16,
   "metadata": {},
   "outputs": [
    {
     "name": "stdout",
     "output_type": "stream",
     "text": [
      "(1000, 3)\n"
     ]
    },
    {
     "data": {
      "text/plain": [
       "array([[u'disappoint accessori good manufactur', 'negative', 'amazon'],\n",
       "       [u'the ship time also quick', 'positive', 'amazon'],\n",
       "       [u'razr batteri good buy', 'positive', 'amazon'],\n",
       "       [ u'thi phone fast send kind messag web brows significantli faster previou phone use',\n",
       "        'positive', 'amazon'],\n",
       "       [u'would advis purchas item never work well', 'negative', 'amazon'],\n",
       "       [u'none new one ever quit work properli', 'negative', 'amazon'],\n",
       "       ['Oh I forgot also mention weird color effect phone', 'negative',\n",
       "        'amazon'],\n",
       "       [u'phone hold charg like new', 'positive', 'amazon'],\n",
       "       [u'So anyon near hear part convers', 'negative', 'amazon'],\n",
       "       [u'I realli recommend facepl sinc look nice eleg cool', 'positive',\n",
       "        'amazon']], dtype=object)"
      ]
     },
     "execution_count": 16,
     "metadata": {},
     "output_type": "execute_result"
    }
   ],
   "source": [
    "amazon = pd.read_csv('data/training_data/amazon_cells_labelled.txt', \n",
    "                   sep=\"\\t\", header=None)\n",
    "amazon.columns = ['review', 'category']\n",
    "amazon['sentiment'] = np.where(amazon.category == 1, 'positive', 'negative')\n",
    "print(amazon.shape)\n",
    "\n",
    "# clean, tokenize, etc\n",
    "amazon['cleaned'] = amazon['review'].apply(lambda x: clean_tweet(x))\n",
    "amazon['cleaned_tweets'] = amazon['cleaned'].apply(lambda x: tokenize_and_stem(x))\n",
    "amazon['source'] = 'amazon'\n",
    "amazon_df = amazon[['cleaned_tweets', 'sentiment', 'source']]\n",
    "amazon_df.sample(10).values"
   ]
  },
  {
   "cell_type": "markdown",
   "metadata": {},
   "source": [
    "### Sklearn"
   ]
  },
  {
   "cell_type": "code",
   "execution_count": 19,
   "metadata": {},
   "outputs": [
    {
     "name": "stdout",
     "output_type": "stream",
     "text": [
      "Accuracy on training set:\n",
      "0.913333333333\n",
      "Accuracy on testing set:\n",
      "0.792\n",
      "Classification Report:\n",
      "              precision    recall  f1-score   support\n",
      "\n",
      "    negative       0.82      0.79      0.80       135\n",
      "    positive       0.76      0.80      0.78       115\n",
      "\n",
      "   micro avg       0.79      0.79      0.79       250\n",
      "   macro avg       0.79      0.79      0.79       250\n",
      "weighted avg       0.79      0.79      0.79       250\n",
      "\n"
     ]
    }
   ],
   "source": [
    "sklearn_naive_bayes(amazon_df['cleaned_tweets'], amazon_df['sentiment'], 500)"
   ]
  },
  {
   "cell_type": "markdown",
   "metadata": {},
   "source": [
    "### NLTK"
   ]
  },
  {
   "cell_type": "code",
   "execution_count": 20,
   "metadata": {},
   "outputs": [
    {
     "name": "stdout",
     "output_type": "stream",
     "text": [
      "The top 50 most common words are:\n",
      "[(u'I', 306), (u'phone', 173), (u'work', 112), (u'the', 99), (u'great', 97), (u'good', 75), (u'use', 71), (u'It', 62), (u'product', 56), (u'headset', 55), (u'thi', 54), (u'qualiti', 49), (u'batteri', 47), (u'sound', 45), (u'one', 41), (u'ear', 41), (u'well', 38), (u'case', 35), (u'would', 34), (u'price', 33), (u'time', 32), (u'get', 32), (u'like', 32), (u'dont', 31), (u'excel', 29), (u'ive', 28), (u'recommend', 27), (u'realli', 26), (u'look', 25), (u'make', 25), (u'comfort', 25), (u'call', 24), (u'not', 24), (u'problem', 24), (u'fit', 23), (u'best', 23), (u'servic', 23), (u'love', 23), (u'nice', 23), (u'buy', 23), (u'charger', 22), (u'veri', 22), (u'also', 22), (u'charg', 22), (u'disappoint', 21), (u'purchas', 21), (u'new', 20), (u'it', 20), (u'item', 20), (u'2', 20)]\n"
     ]
    },
    {
     "name": "stderr",
     "output_type": "stream",
     "text": [
      "/Users/andrewrubino/anaconda2/lib/python2.7/site-packages/ipykernel_launcher.py:4: SettingWithCopyWarning: \n",
      "A value is trying to be set on a copy of a slice from a DataFrame.\n",
      "Try using .loc[row_indexer,col_indexer] = value instead\n",
      "\n",
      "See the caveats in the documentation: http://pandas.pydata.org/pandas-docs/stable/indexing.html#indexing-view-versus-copy\n",
      "  after removing the cwd from sys.path.\n"
     ]
    },
    {
     "name": "stdout",
     "output_type": "stream",
     "text": [
      "('Naive Bayes Algo accuracy:', 76.8)\n",
      "Most Informative Features\n",
      "                   great = True           positi : negati =     21.5 : 1.0\n",
      "                   excel = True           positi : negati =     13.0 : 1.0\n",
      "                     not = True           negati : positi =     10.2 : 1.0\n",
      "                   price = True           positi : negati =     10.1 : 1.0\n",
      "                    best = True           positi : negati =      9.8 : 1.0\n",
      "                   could = True           negati : positi =      8.1 : 1.0\n",
      "                      If = True           negati : positi =      6.7 : 1.0\n",
      "                    piec = True           negati : positi =      6.0 : 1.0\n",
      "                  custom = True           negati : positi =      5.3 : 1.0\n",
      "                    good = True           positi : negati =      4.9 : 1.0\n",
      "                  highli = True           positi : negati =      4.7 : 1.0\n",
      "                  button = True           negati : positi =      4.6 : 1.0\n",
      "                    turn = True           negati : positi =      4.6 : 1.0\n",
      "                 comfort = True           positi : negati =      4.5 : 1.0\n",
      "                   first = True           negati : positi =      4.4 : 1.0\n",
      "                  doesnt = True           negati : positi =      4.4 : 1.0\n",
      "                    dont = True           negati : positi =      4.3 : 1.0\n",
      "                   jabra = True           positi : negati =      4.1 : 1.0\n",
      "                  pretti = True           positi : negati =      4.1 : 1.0\n",
      "                   devic = True           positi : negati =      4.0 : 1.0\n",
      "                    talk = True           negati : positi =      3.9 : 1.0\n",
      "                    stay = True           negati : positi =      3.9 : 1.0\n",
      "                   anyon = True           negati : positi =      3.9 : 1.0\n",
      "                    cant = True           negati : positi =      3.9 : 1.0\n",
      "                     big = True           negati : positi =      3.9 : 1.0\n"
     ]
    }
   ],
   "source": [
    "nltk_naive_bayes(amazon_df, 500)"
   ]
  },
  {
   "cell_type": "markdown",
   "metadata": {},
   "source": [
    "### Stanford dataset\n",
    "\n",
    "- 0: the polarity of the tweet (0 = negative, 2 = neutral, 4 = positive)\n",
    "- 1: the id of the tweet (2087)\n",
    "- 2: the date of the tweet (Sat May 16 23:58:44 UTC 2009)\n",
    "- 3: the query (lyx). If there is no query, then this value is NO_QUERY.\n",
    "- 4: the user that tweeted (robotickilldozr)\n",
    "- 5: the text of the tweet (Lyx is cool)"
   ]
  },
  {
   "cell_type": "code",
   "execution_count": 2,
   "metadata": {},
   "outputs": [
    {
     "ename": "UnicodeDecodeError",
     "evalue": "'utf-8' codec can't decode bytes in position 80-81: invalid continuation byte",
     "output_type": "error",
     "traceback": [
      "\u001b[0;31m---------------------------------------------------------------------------\u001b[0m",
      "\u001b[0;31mUnicodeDecodeError\u001b[0m                        Traceback (most recent call last)",
      "\u001b[0;32mpandas/_libs/parsers.pyx\u001b[0m in \u001b[0;36mpandas._libs.parsers.TextReader._convert_tokens\u001b[0;34m()\u001b[0m\n",
      "\u001b[0;32mpandas/_libs/parsers.pyx\u001b[0m in \u001b[0;36mpandas._libs.parsers.TextReader._convert_with_dtype\u001b[0;34m()\u001b[0m\n",
      "\u001b[0;32mpandas/_libs/parsers.pyx\u001b[0m in \u001b[0;36mpandas._libs.parsers.TextReader._string_convert\u001b[0;34m()\u001b[0m\n",
      "\u001b[0;32mpandas/_libs/parsers.pyx\u001b[0m in \u001b[0;36mpandas._libs.parsers._string_box_utf8\u001b[0;34m()\u001b[0m\n",
      "\u001b[0;31mUnicodeDecodeError\u001b[0m: 'utf-8' codec can't decode bytes in position 80-81: invalid continuation byte",
      "\nDuring handling of the above exception, another exception occurred:\n",
      "\u001b[0;31mUnicodeDecodeError\u001b[0m                        Traceback (most recent call last)",
      "\u001b[0;32m<ipython-input-2-f4a88fc91de5>\u001b[0m in \u001b[0;36m<module>\u001b[0;34m\u001b[0m\n\u001b[1;32m      1\u001b[0m \u001b[0;31m# and then this random training set from airlines\u001b[0m\u001b[0;34m\u001b[0m\u001b[0;34m\u001b[0m\u001b[0;34m\u001b[0m\u001b[0m\n\u001b[0;32m----> 2\u001b[0;31m \u001b[0mstanford\u001b[0m \u001b[0;34m=\u001b[0m \u001b[0mpd\u001b[0m\u001b[0;34m.\u001b[0m\u001b[0mread_csv\u001b[0m\u001b[0;34m(\u001b[0m\u001b[0;34m'../data/training_data/stanford_training_labelled.csv'\u001b[0m\u001b[0;34m,\u001b[0m \u001b[0mheader\u001b[0m\u001b[0;34m=\u001b[0m\u001b[0;32mNone\u001b[0m\u001b[0;34m)\u001b[0m\u001b[0;34m\u001b[0m\u001b[0;34m\u001b[0m\u001b[0m\n\u001b[0m\u001b[1;32m      3\u001b[0m \u001b[0mstanford\u001b[0m\u001b[0;34m.\u001b[0m\u001b[0mcolumns\u001b[0m \u001b[0;34m=\u001b[0m \u001b[0;34m[\u001b[0m\u001b[0;34m'polarity'\u001b[0m\u001b[0;34m,\u001b[0m \u001b[0;34m'tweet_id'\u001b[0m\u001b[0;34m,\u001b[0m \u001b[0;34m'date'\u001b[0m\u001b[0;34m,\u001b[0m \u001b[0;34m'query'\u001b[0m\u001b[0;34m,\u001b[0m \u001b[0;34m'user'\u001b[0m\u001b[0;34m,\u001b[0m \u001b[0;34m'tweet'\u001b[0m\u001b[0;34m]\u001b[0m\u001b[0;34m\u001b[0m\u001b[0;34m\u001b[0m\u001b[0m\n\u001b[1;32m      4\u001b[0m \u001b[0mprint\u001b[0m\u001b[0;34m(\u001b[0m\u001b[0mstanford\u001b[0m\u001b[0;34m.\u001b[0m\u001b[0mshape\u001b[0m\u001b[0;34m)\u001b[0m\u001b[0;34m\u001b[0m\u001b[0;34m\u001b[0m\u001b[0m\n\u001b[1;32m      5\u001b[0m \u001b[0;34m\u001b[0m\u001b[0m\n",
      "\u001b[0;32m/usr/local/lib/python3.7/site-packages/pandas/io/parsers.py\u001b[0m in \u001b[0;36mparser_f\u001b[0;34m(filepath_or_buffer, sep, delimiter, header, names, index_col, usecols, squeeze, prefix, mangle_dupe_cols, dtype, engine, converters, true_values, false_values, skipinitialspace, skiprows, skipfooter, nrows, na_values, keep_default_na, na_filter, verbose, skip_blank_lines, parse_dates, infer_datetime_format, keep_date_col, date_parser, dayfirst, iterator, chunksize, compression, thousands, decimal, lineterminator, quotechar, quoting, doublequote, escapechar, comment, encoding, dialect, tupleize_cols, error_bad_lines, warn_bad_lines, delim_whitespace, low_memory, memory_map, float_precision)\u001b[0m\n\u001b[1;32m    700\u001b[0m                     skip_blank_lines=skip_blank_lines)\n\u001b[1;32m    701\u001b[0m \u001b[0;34m\u001b[0m\u001b[0m\n\u001b[0;32m--> 702\u001b[0;31m         \u001b[0;32mreturn\u001b[0m \u001b[0m_read\u001b[0m\u001b[0;34m(\u001b[0m\u001b[0mfilepath_or_buffer\u001b[0m\u001b[0;34m,\u001b[0m \u001b[0mkwds\u001b[0m\u001b[0;34m)\u001b[0m\u001b[0;34m\u001b[0m\u001b[0;34m\u001b[0m\u001b[0m\n\u001b[0m\u001b[1;32m    703\u001b[0m \u001b[0;34m\u001b[0m\u001b[0m\n\u001b[1;32m    704\u001b[0m     \u001b[0mparser_f\u001b[0m\u001b[0;34m.\u001b[0m\u001b[0m__name__\u001b[0m \u001b[0;34m=\u001b[0m \u001b[0mname\u001b[0m\u001b[0;34m\u001b[0m\u001b[0;34m\u001b[0m\u001b[0m\n",
      "\u001b[0;32m/usr/local/lib/python3.7/site-packages/pandas/io/parsers.py\u001b[0m in \u001b[0;36m_read\u001b[0;34m(filepath_or_buffer, kwds)\u001b[0m\n\u001b[1;32m    433\u001b[0m \u001b[0;34m\u001b[0m\u001b[0m\n\u001b[1;32m    434\u001b[0m     \u001b[0;32mtry\u001b[0m\u001b[0;34m:\u001b[0m\u001b[0;34m\u001b[0m\u001b[0;34m\u001b[0m\u001b[0m\n\u001b[0;32m--> 435\u001b[0;31m         \u001b[0mdata\u001b[0m \u001b[0;34m=\u001b[0m \u001b[0mparser\u001b[0m\u001b[0;34m.\u001b[0m\u001b[0mread\u001b[0m\u001b[0;34m(\u001b[0m\u001b[0mnrows\u001b[0m\u001b[0;34m)\u001b[0m\u001b[0;34m\u001b[0m\u001b[0;34m\u001b[0m\u001b[0m\n\u001b[0m\u001b[1;32m    436\u001b[0m     \u001b[0;32mfinally\u001b[0m\u001b[0;34m:\u001b[0m\u001b[0;34m\u001b[0m\u001b[0;34m\u001b[0m\u001b[0m\n\u001b[1;32m    437\u001b[0m         \u001b[0mparser\u001b[0m\u001b[0;34m.\u001b[0m\u001b[0mclose\u001b[0m\u001b[0;34m(\u001b[0m\u001b[0;34m)\u001b[0m\u001b[0;34m\u001b[0m\u001b[0;34m\u001b[0m\u001b[0m\n",
      "\u001b[0;32m/usr/local/lib/python3.7/site-packages/pandas/io/parsers.py\u001b[0m in \u001b[0;36mread\u001b[0;34m(self, nrows)\u001b[0m\n\u001b[1;32m   1137\u001b[0m     \u001b[0;32mdef\u001b[0m \u001b[0mread\u001b[0m\u001b[0;34m(\u001b[0m\u001b[0mself\u001b[0m\u001b[0;34m,\u001b[0m \u001b[0mnrows\u001b[0m\u001b[0;34m=\u001b[0m\u001b[0;32mNone\u001b[0m\u001b[0;34m)\u001b[0m\u001b[0;34m:\u001b[0m\u001b[0;34m\u001b[0m\u001b[0;34m\u001b[0m\u001b[0m\n\u001b[1;32m   1138\u001b[0m         \u001b[0mnrows\u001b[0m \u001b[0;34m=\u001b[0m \u001b[0m_validate_integer\u001b[0m\u001b[0;34m(\u001b[0m\u001b[0;34m'nrows'\u001b[0m\u001b[0;34m,\u001b[0m \u001b[0mnrows\u001b[0m\u001b[0;34m)\u001b[0m\u001b[0;34m\u001b[0m\u001b[0;34m\u001b[0m\u001b[0m\n\u001b[0;32m-> 1139\u001b[0;31m         \u001b[0mret\u001b[0m \u001b[0;34m=\u001b[0m \u001b[0mself\u001b[0m\u001b[0;34m.\u001b[0m\u001b[0m_engine\u001b[0m\u001b[0;34m.\u001b[0m\u001b[0mread\u001b[0m\u001b[0;34m(\u001b[0m\u001b[0mnrows\u001b[0m\u001b[0;34m)\u001b[0m\u001b[0;34m\u001b[0m\u001b[0;34m\u001b[0m\u001b[0m\n\u001b[0m\u001b[1;32m   1140\u001b[0m \u001b[0;34m\u001b[0m\u001b[0m\n\u001b[1;32m   1141\u001b[0m         \u001b[0;31m# May alter columns / col_dict\u001b[0m\u001b[0;34m\u001b[0m\u001b[0;34m\u001b[0m\u001b[0;34m\u001b[0m\u001b[0m\n",
      "\u001b[0;32m/usr/local/lib/python3.7/site-packages/pandas/io/parsers.py\u001b[0m in \u001b[0;36mread\u001b[0;34m(self, nrows)\u001b[0m\n\u001b[1;32m   1993\u001b[0m     \u001b[0;32mdef\u001b[0m \u001b[0mread\u001b[0m\u001b[0;34m(\u001b[0m\u001b[0mself\u001b[0m\u001b[0;34m,\u001b[0m \u001b[0mnrows\u001b[0m\u001b[0;34m=\u001b[0m\u001b[0;32mNone\u001b[0m\u001b[0;34m)\u001b[0m\u001b[0;34m:\u001b[0m\u001b[0;34m\u001b[0m\u001b[0;34m\u001b[0m\u001b[0m\n\u001b[1;32m   1994\u001b[0m         \u001b[0;32mtry\u001b[0m\u001b[0;34m:\u001b[0m\u001b[0;34m\u001b[0m\u001b[0;34m\u001b[0m\u001b[0m\n\u001b[0;32m-> 1995\u001b[0;31m             \u001b[0mdata\u001b[0m \u001b[0;34m=\u001b[0m \u001b[0mself\u001b[0m\u001b[0;34m.\u001b[0m\u001b[0m_reader\u001b[0m\u001b[0;34m.\u001b[0m\u001b[0mread\u001b[0m\u001b[0;34m(\u001b[0m\u001b[0mnrows\u001b[0m\u001b[0;34m)\u001b[0m\u001b[0;34m\u001b[0m\u001b[0;34m\u001b[0m\u001b[0m\n\u001b[0m\u001b[1;32m   1996\u001b[0m         \u001b[0;32mexcept\u001b[0m \u001b[0mStopIteration\u001b[0m\u001b[0;34m:\u001b[0m\u001b[0;34m\u001b[0m\u001b[0;34m\u001b[0m\u001b[0m\n\u001b[1;32m   1997\u001b[0m             \u001b[0;32mif\u001b[0m \u001b[0mself\u001b[0m\u001b[0;34m.\u001b[0m\u001b[0m_first_chunk\u001b[0m\u001b[0;34m:\u001b[0m\u001b[0;34m\u001b[0m\u001b[0;34m\u001b[0m\u001b[0m\n",
      "\u001b[0;32mpandas/_libs/parsers.pyx\u001b[0m in \u001b[0;36mpandas._libs.parsers.TextReader.read\u001b[0;34m()\u001b[0m\n",
      "\u001b[0;32mpandas/_libs/parsers.pyx\u001b[0m in \u001b[0;36mpandas._libs.parsers.TextReader._read_low_memory\u001b[0;34m()\u001b[0m\n",
      "\u001b[0;32mpandas/_libs/parsers.pyx\u001b[0m in \u001b[0;36mpandas._libs.parsers.TextReader._read_rows\u001b[0;34m()\u001b[0m\n",
      "\u001b[0;32mpandas/_libs/parsers.pyx\u001b[0m in \u001b[0;36mpandas._libs.parsers.TextReader._convert_column_data\u001b[0;34m()\u001b[0m\n",
      "\u001b[0;32mpandas/_libs/parsers.pyx\u001b[0m in \u001b[0;36mpandas._libs.parsers.TextReader._convert_tokens\u001b[0;34m()\u001b[0m\n",
      "\u001b[0;32mpandas/_libs/parsers.pyx\u001b[0m in \u001b[0;36mpandas._libs.parsers.TextReader._convert_with_dtype\u001b[0;34m()\u001b[0m\n",
      "\u001b[0;32mpandas/_libs/parsers.pyx\u001b[0m in \u001b[0;36mpandas._libs.parsers.TextReader._string_convert\u001b[0;34m()\u001b[0m\n",
      "\u001b[0;32mpandas/_libs/parsers.pyx\u001b[0m in \u001b[0;36mpandas._libs.parsers._string_box_utf8\u001b[0;34m()\u001b[0m\n",
      "\u001b[0;31mUnicodeDecodeError\u001b[0m: 'utf-8' codec can't decode bytes in position 80-81: invalid continuation byte"
     ]
    }
   ],
   "source": [
    "# and then this random training set from airlines\n",
    "stanford = pd.read_csv('../data/training_data/stanford_training_labelled.csv', header=None)\n",
    "stanford.columns = ['polarity', 'tweet_id', 'date', 'query', 'user', 'tweet']\n",
    "print(stanford.shape)\n",
    "\n",
    "# clean, tokenize, etc\n",
    "stanford['cleaned'] = stanford['tweet'].apply(lambda x: clean_tweet(x))\n",
    "stanford['cleaned_tweets'] = stanford['cleaned'].apply(lambda x: tokenize_and_stem(x))\n",
    "stanford['source'] = 'stanford'\n",
    "stanford['sentiment'] = np.where(stanford.polarity == 0, 'negative', \n",
    "                                 np.where(stanford.polarity == 2, 'neutral', 'positive'))\n",
    "stanford_df = stanford[['cleaned_tweets', 'sentiment', 'source']]\n",
    "stanford_df = stanford_df.sample(frac=1).reset_index(drop=True)\n",
    "stanford_df.sample(10)"
   ]
  },
  {
   "cell_type": "markdown",
   "metadata": {},
   "source": [
    "#### Sklearn"
   ]
  },
  {
   "cell_type": "code",
   "execution_count": 23,
   "metadata": {},
   "outputs": [
    {
     "name": "stdout",
     "output_type": "stream",
     "text": [
      "Accuracy on training set:\n",
      "0.7570125\n",
      "Accuracy on testing set:\n",
      "0.7561575\n",
      "Classification Report:\n",
      "              precision    recall  f1-score   support\n",
      "\n",
      "    negative       0.75      0.76      0.76    199796\n",
      "    positive       0.76      0.75      0.75    200204\n",
      "\n",
      "   micro avg       0.76      0.76      0.76    400000\n",
      "   macro avg       0.76      0.76      0.76    400000\n",
      "weighted avg       0.76      0.76      0.76    400000\n",
      "\n"
     ]
    }
   ],
   "source": [
    "sklearn_naive_bayes(stanford_df['cleaned_tweets'], stanford_df['sentiment'], 3000)"
   ]
  },
  {
   "cell_type": "markdown",
   "metadata": {},
   "source": [
    "#### NLTK"
   ]
  },
  {
   "cell_type": "code",
   "execution_count": 24,
   "metadata": {},
   "outputs": [
    {
     "name": "stdout",
     "output_type": "stream",
     "text": [
      "The top 50 most common words are:\n",
      "[(u'I', 499424), (u'go', 132897), (u'Im', 110369), (u'get', 109964), (u'day', 101859), (u'good', 90558), (u'work', 85189), (u'like', 82960), (u'love', 81079), (u'got', 70039), (u'dont', 67305), (u'today', 66107), (u'im', 65732), (u'time', 64341), (u'cant', 62889), (u'thank', 57944), (u'want', 57048), (u'back', 56404), (u'miss', 56298), (u'one', 55907), (u'lol', 55385), (u'know', 54053), (u'see', 50788), (u'feel', 50654), (u'think', 50626), (u'realli', 49590), (u'u', 47544), (u'well', 44606), (u'hope', 43741), (u'night', 43218), (u'watch', 43122), (u'need', 42898), (u'still', 42852), (u'make', 42551), (u'new', 42477), (u'na', 41024), (u'that', 40986), (u'amp', 40718), (u'home', 39488), (u'look', 39094), (u'come', 38619), (u'2', 37663), (u'much', 36539), (u'last', 35755), (u'twitter', 34318), (u'morn', 34261), (u'tomorrow', 33346), (u'wish', 33231), (u'great', 32982), (u'wait', 31986)]\n",
      "('Naive Bayes Algo accuracy:', 72.50325)\n",
      "Most Informative Features\n",
      "                     sad = True           negati : positi =     19.0 : 1.0\n",
      "                 headach = True           negati : positi =     11.4 : 1.0\n",
      "                  welcom = True           positi : negati =     11.3 : 1.0\n",
      "                    sick = True           negati : positi =     10.0 : 1.0\n",
      "                    poor = True           negati : positi =      9.9 : 1.0\n",
      "                    hurt = True           negati : positi =      9.9 : 1.0\n",
      "                     ugh = True           negati : positi =      9.6 : 1.0\n",
      "                   broke = True           negati : positi =      7.5 : 1.0\n",
      "                    suck = True           negati : positi =      6.8 : 1.0\n",
      "                   smile = True           positi : negati =      6.8 : 1.0\n",
      "                    hate = True           negati : positi =      6.4 : 1.0\n",
      "                     cri = True           negati : positi =      6.3 : 1.0\n",
      "                   thank = True           positi : negati =      6.1 : 1.0\n",
      "                     die = True           negati : positi =      5.5 : 1.0\n",
      "                    lost = True           negati : positi =      5.2 : 1.0\n",
      "                   stuck = True           negati : positi =      5.2 : 1.0\n",
      "                  anymor = True           negati : positi =      5.2 : 1.0\n",
      "                    pain = True           negati : positi =      5.1 : 1.0\n",
      "                    miss = True           negati : positi =      5.1 : 1.0\n",
      "                  stupid = True           negati : positi =      4.9 : 1.0\n",
      "                     boo = True           negati : positi =      4.8 : 1.0\n",
      "                      Hi = True           positi : negati =      4.7 : 1.0\n",
      "                     whi = True           negati : positi =      4.6 : 1.0\n",
      "                    fail = True           negati : positi =      4.5 : 1.0\n",
      "                    crap = True           negati : positi =      4.2 : 1.0\n"
     ]
    }
   ],
   "source": [
    "nltk_naive_bayes(stanford_df, 500)"
   ]
  },
  {
   "cell_type": "markdown",
   "metadata": {},
   "source": [
    "### Append the all together!\n",
    "\n",
    "Well, let's maybe append part of it together. I don't think we're gonna need all of the stanford dataset, maybe 1/2 of it. The models seem to do pretty good without a ton of data.\n",
    "\n",
    "1. smr_df\n",
    "2. airlines_df\n",
    "3. yelp_df\n",
    "5. amazon_df\n",
    "6. stanford_df (50%)"
   ]
  },
  {
   "cell_type": "code",
   "execution_count": 19,
   "metadata": {},
   "outputs": [
    {
     "name": "stdout",
     "output_type": "stream",
     "text": [
      "(827302, 3)\n",
      "stanford               800000\n",
      "airline_reviews         14640\n",
      "short_movie_reviews     10662\n",
      "yelp                     1000\n",
      "amazon                   1000\n",
      "Name: source, dtype: int64\n"
     ]
    },
    {
     "data": {
      "text/html": [
       "<div>\n",
       "<style>\n",
       "    .dataframe thead tr:only-child th {\n",
       "        text-align: right;\n",
       "    }\n",
       "\n",
       "    .dataframe thead th {\n",
       "        text-align: left;\n",
       "    }\n",
       "\n",
       "    .dataframe tbody tr th {\n",
       "        vertical-align: top;\n",
       "    }\n",
       "</style>\n",
       "<table border=\"1\" class=\"dataframe\">\n",
       "  <thead>\n",
       "    <tr style=\"text-align: right;\">\n",
       "      <th></th>\n",
       "      <th>cleaned_tweets</th>\n",
       "      <th>sentiment</th>\n",
       "      <th>source</th>\n",
       "    </tr>\n",
       "  </thead>\n",
       "  <tbody>\n",
       "    <tr>\n",
       "      <th>0</th>\n",
       "      <td>supercalafragilelisticexpialadoshu wow guess i...</td>\n",
       "      <td>positive</td>\n",
       "      <td>stanford</td>\n",
       "    </tr>\n",
       "    <tr>\n",
       "      <th>1</th>\n",
       "      <td>went church hour ago</td>\n",
       "      <td>positive</td>\n",
       "      <td>stanford</td>\n",
       "    </tr>\n",
       "    <tr>\n",
       "      <th>2</th>\n",
       "      <td>dnt point often end video crazi guy clapn n da...</td>\n",
       "      <td>negative</td>\n",
       "      <td>stanford</td>\n",
       "    </tr>\n",
       "    <tr>\n",
       "      <th>3</th>\n",
       "      <td>stomach realli friendli moment uhhhhh</td>\n",
       "      <td>negative</td>\n",
       "      <td>stanford</td>\n",
       "    </tr>\n",
       "    <tr>\n",
       "      <th>4</th>\n",
       "      <td>quotnutella banana bread well that right blasp...</td>\n",
       "      <td>positive</td>\n",
       "      <td>stanford</td>\n",
       "    </tr>\n",
       "    <tr>\n",
       "      <th>5</th>\n",
       "      <td>tri run away wind alway say quothel haunt ever...</td>\n",
       "      <td>positive</td>\n",
       "      <td>stanford</td>\n",
       "    </tr>\n",
       "    <tr>\n",
       "      <th>6</th>\n",
       "      <td>just one day race england wwwnsrnl</td>\n",
       "      <td>positive</td>\n",
       "      <td>stanford</td>\n",
       "    </tr>\n",
       "    <tr>\n",
       "      <th>7</th>\n",
       "      <td>leav cal 2 amp half month let see home goe</td>\n",
       "      <td>negative</td>\n",
       "      <td>stanford</td>\n",
       "    </tr>\n",
       "    <tr>\n",
       "      <th>8</th>\n",
       "      <td>start get pictur either compani logo dont face...</td>\n",
       "      <td>positive</td>\n",
       "      <td>stanford</td>\n",
       "    </tr>\n",
       "    <tr>\n",
       "      <th>9</th>\n",
       "      <td>I need jqueri base nav menu anyon one _li arou...</td>\n",
       "      <td>positive</td>\n",
       "      <td>stanford</td>\n",
       "    </tr>\n",
       "  </tbody>\n",
       "</table>\n",
       "</div>"
      ],
      "text/plain": [
       "                                      cleaned_tweets sentiment    source\n",
       "0  supercalafragilelisticexpialadoshu wow guess i...  positive  stanford\n",
       "1                               went church hour ago  positive  stanford\n",
       "2  dnt point often end video crazi guy clapn n da...  negative  stanford\n",
       "3              stomach realli friendli moment uhhhhh  negative  stanford\n",
       "4  quotnutella banana bread well that right blasp...  positive  stanford\n",
       "5  tri run away wind alway say quothel haunt ever...  positive  stanford\n",
       "6                 just one day race england wwwnsrnl  positive  stanford\n",
       "7         leav cal 2 amp half month let see home goe  negative  stanford\n",
       "8  start get pictur either compani logo dont face...  positive  stanford\n",
       "9  I need jqueri base nav menu anyon one _li arou...  positive  stanford"
      ]
     },
     "execution_count": 19,
     "metadata": {},
     "output_type": "execute_result"
    }
   ],
   "source": [
    "master = (smr_df.append(airlines_df)\n",
    "          .append(yelp_df)\n",
    "          .append(amazon_df)\n",
    "          .append(stanford_df.iloc[:int(len(stanford_df)*.5)])\n",
    "          .reset_index(drop=True))\n",
    "\n",
    "print(master.shape)\n",
    "print(master.source.value_counts())\n",
    "# shuffle dataset\n",
    "master = master.sample(frac=1).reset_index(drop=True)\n",
    "master.head(10)"
   ]
  },
  {
   "cell_type": "code",
   "execution_count": 20,
   "metadata": {},
   "outputs": [
    {
     "data": {
      "text/plain": [
       "negative    414862\n",
       "positive    409341\n",
       "Name: sentiment, dtype: int64"
      ]
     },
     "execution_count": 20,
     "metadata": {},
     "output_type": "execute_result"
    }
   ],
   "source": [
    "# let's remove the neutral stuff for now\n",
    "master = master.loc[master.sentiment != 'neutral'].reset_index(drop=True).copy()\n",
    "master.sentiment.value_counts()"
   ]
  },
  {
   "cell_type": "code",
   "execution_count": 21,
   "metadata": {
    "collapsed": true
   },
   "outputs": [],
   "source": [
    "# quickly save this to file\n",
    "master.to_csv('data/training_data/master_training_data_june22.csv', index=False)"
   ]
  },
  {
   "cell_type": "markdown",
   "metadata": {},
   "source": [
    "# Wikipedia sentences"
   ]
  },
  {
   "cell_type": "code",
   "execution_count": 12,
   "metadata": {},
   "outputs": [
    {
     "data": {
      "text/plain": [
       "['0.000123, which corresponds to a distance of 705 Mly, or 216 Mpc',\n",
       " '000webhost is a free web hosting service, operated by Hostinger',\n",
       " '0010x0010 is a Dutch-born audiovisual artist, currently living in Los Angeles',\n",
       " '0-0-1-3 is an alcohol abuse prevention program developed in 2004 at Francis E. Warren Air Force Base based on research by the National Institute on Alcohol Abuse and Alcoholism regarding binge drinking in college students',\n",
       " '0.01 is the debut studio album of H3llb3nt, released on February 20, 1996 by Fifth Colvmn Records',\n",
       " '001 of 3 February 1997, which was signed between the Government of the Republic of Rwanda, and FAPADER',\n",
       " '003230 is a South Korean food manufacturer',\n",
       " '0.04%Gas molecules in soil are in continuous thermal motion according to the kinetic theory of gasses, there is also collision between molecules - a random walk',\n",
       " '0.04% of the votes were invalid',\n",
       " '005.1999.06 is the fifth studio album by the South Korean singer and actress Uhm Jung-hwa']"
      ]
     },
     "execution_count": 12,
     "metadata": {},
     "output_type": "execute_result"
    }
   ],
   "source": [
    "# wiki = pd.read_csv('../data/wikisent2.txt', header=None)\n",
    "# # data.columns = [\"a\", \"b\", \"c\", \"etc.\"]\n",
    "# print(wiki.shape)\n",
    "# # wiki.head()\n",
    "\n",
    "lines = []\n",
    "\n",
    "with open('../data/wikisent2.txt', encoding='utf-8') as f:\n",
    "    for line in f:\n",
    "        lines.append(line[:-2])\n",
    "\n",
    "lines[:10]"
   ]
  },
  {
   "cell_type": "code",
   "execution_count": 28,
   "metadata": {},
   "outputs": [
    {
     "name": "stdout",
     "output_type": "stream",
     "text": [
      "(7871825, 3)\n"
     ]
    },
    {
     "data": {
      "text/html": [
       "<div>\n",
       "<style scoped>\n",
       "    .dataframe tbody tr th:only-of-type {\n",
       "        vertical-align: middle;\n",
       "    }\n",
       "\n",
       "    .dataframe tbody tr th {\n",
       "        vertical-align: top;\n",
       "    }\n",
       "\n",
       "    .dataframe thead th {\n",
       "        text-align: right;\n",
       "    }\n",
       "</style>\n",
       "<table border=\"1\" class=\"dataframe\">\n",
       "  <thead>\n",
       "    <tr style=\"text-align: right;\">\n",
       "      <th></th>\n",
       "      <th>sentence</th>\n",
       "      <th>sentiment</th>\n",
       "      <th>source</th>\n",
       "    </tr>\n",
       "  </thead>\n",
       "  <tbody>\n",
       "    <tr>\n",
       "      <th>0</th>\n",
       "      <td>0.000123, which corresponds to a distance of 7...</td>\n",
       "      <td>neutral</td>\n",
       "      <td>wikipedia</td>\n",
       "    </tr>\n",
       "    <tr>\n",
       "      <th>1</th>\n",
       "      <td>000webhost is a free web hosting service, oper...</td>\n",
       "      <td>neutral</td>\n",
       "      <td>wikipedia</td>\n",
       "    </tr>\n",
       "    <tr>\n",
       "      <th>2</th>\n",
       "      <td>0010x0010 is a Dutch-born audiovisual artist, ...</td>\n",
       "      <td>neutral</td>\n",
       "      <td>wikipedia</td>\n",
       "    </tr>\n",
       "    <tr>\n",
       "      <th>3</th>\n",
       "      <td>0-0-1-3 is an alcohol abuse prevention program...</td>\n",
       "      <td>neutral</td>\n",
       "      <td>wikipedia</td>\n",
       "    </tr>\n",
       "    <tr>\n",
       "      <th>4</th>\n",
       "      <td>0.01 is the debut studio album of H3llb3nt, re...</td>\n",
       "      <td>neutral</td>\n",
       "      <td>wikipedia</td>\n",
       "    </tr>\n",
       "  </tbody>\n",
       "</table>\n",
       "</div>"
      ],
      "text/plain": [
       "                                            sentence sentiment     source\n",
       "0  0.000123, which corresponds to a distance of 7...   neutral  wikipedia\n",
       "1  000webhost is a free web hosting service, oper...   neutral  wikipedia\n",
       "2  0010x0010 is a Dutch-born audiovisual artist, ...   neutral  wikipedia\n",
       "3  0-0-1-3 is an alcohol abuse prevention program...   neutral  wikipedia\n",
       "4  0.01 is the debut studio album of H3llb3nt, re...   neutral  wikipedia"
      ]
     },
     "execution_count": 28,
     "metadata": {},
     "output_type": "execute_result"
    }
   ],
   "source": [
    "wiki_df = pd.DataFrame({'sentence':lines,\n",
    "                         'sentiment':'neutral',\n",
    "                         'source':'wikipedia'})\n",
    "\n",
    "print(wiki_df.shape)\n",
    "wiki_df.head()"
   ]
  },
  {
   "cell_type": "code",
   "execution_count": 39,
   "metadata": {},
   "outputs": [],
   "source": [
    "np.random.seed(24)\n",
    "\n",
    "wiki_sample = wiki_df.sample(400000)\n",
    "\n",
    "wiki_sample['cleaned'] = wiki_sample['sentence'].apply(lambda x: clean_tweet(x))\n",
    "wiki_sample['cleaned_tweets'] = wiki_sample['cleaned'].apply(lambda x: tokenize_and_stem(x))"
   ]
  },
  {
   "cell_type": "code",
   "execution_count": 41,
   "metadata": {},
   "outputs": [
    {
     "data": {
      "text/html": [
       "<div>\n",
       "<style scoped>\n",
       "    .dataframe tbody tr th:only-of-type {\n",
       "        vertical-align: middle;\n",
       "    }\n",
       "\n",
       "    .dataframe tbody tr th {\n",
       "        vertical-align: top;\n",
       "    }\n",
       "\n",
       "    .dataframe thead th {\n",
       "        text-align: right;\n",
       "    }\n",
       "</style>\n",
       "<table border=\"1\" class=\"dataframe\">\n",
       "  <thead>\n",
       "    <tr style=\"text-align: right;\">\n",
       "      <th></th>\n",
       "      <th>sentence</th>\n",
       "      <th>sentiment</th>\n",
       "      <th>source</th>\n",
       "      <th>cleaned</th>\n",
       "      <th>cleaned_tweets</th>\n",
       "    </tr>\n",
       "  </thead>\n",
       "  <tbody>\n",
       "    <tr>\n",
       "      <th>6106192</th>\n",
       "      <td>The group, between them, own over 700 brands a...</td>\n",
       "      <td>neutral</td>\n",
       "      <td>wikipedia</td>\n",
       "      <td>The group between them own over 700 brands and...</td>\n",
       "      <td>the group 700 brand 4200 pub</td>\n",
       "    </tr>\n",
       "    <tr>\n",
       "      <th>4864979</th>\n",
       "      <td>Scheduled in Smart Araneta Coliseum on Februar...</td>\n",
       "      <td>neutral</td>\n",
       "      <td>wikipedia</td>\n",
       "      <td>Scheduled in Smart Araneta Coliseum on Februar...</td>\n",
       "      <td>schedul smart araneta coliseum februari 5 2017...</td>\n",
       "    </tr>\n",
       "    <tr>\n",
       "      <th>3416916</th>\n",
       "      <td>It was first published in Four Color Comics #3...</td>\n",
       "      <td>neutral</td>\n",
       "      <td>wikipedia</td>\n",
       "      <td>It was first published in Four Color Comics  M...</td>\n",
       "      <td>It first publish four color comic march 1952 s...</td>\n",
       "    </tr>\n",
       "    <tr>\n",
       "      <th>6112173</th>\n",
       "      <td>The group sophisticatedly utilizes social medi...</td>\n",
       "      <td>neutral</td>\n",
       "      <td>wikipedia</td>\n",
       "      <td>The group sophisticatedly utilizes social medi...</td>\n",
       "      <td>the group sophisticatedli util social media to...</td>\n",
       "    </tr>\n",
       "    <tr>\n",
       "      <th>2536301</th>\n",
       "      <td>In 2012, he ventured into acting, appearing in...</td>\n",
       "      <td>neutral</td>\n",
       "      <td>wikipedia</td>\n",
       "      <td>In 2012 he ventured into acting appearing in t...</td>\n",
       "      <td>In 2012 ventur act appear film thunderstruck</td>\n",
       "    </tr>\n",
       "    <tr>\n",
       "      <th>1346915</th>\n",
       "      <td>Edward Kellogg Baird (July 13, 1876 - 1951), w...</td>\n",
       "      <td>neutral</td>\n",
       "      <td>wikipedia</td>\n",
       "      <td>Edward Kellogg Baird (July 13 1876 1951) was a...</td>\n",
       "      <td>edward kellogg baird juli 13 1876 1951 attorne...</td>\n",
       "    </tr>\n",
       "    <tr>\n",
       "      <th>2836388</th>\n",
       "      <td>It began in the mid-nineteenth century, with t...</td>\n",
       "      <td>neutral</td>\n",
       "      <td>wikipedia</td>\n",
       "      <td>It began in the mid-nineteenth century with th...</td>\n",
       "      <td>It began midnineteenth centuri construct first...</td>\n",
       "    </tr>\n",
       "    <tr>\n",
       "      <th>3747098</th>\n",
       "      <td>Koranganatha Temple is a Hindu temple situated...</td>\n",
       "      <td>neutral</td>\n",
       "      <td>wikipedia</td>\n",
       "      <td>Koranganatha Temple is a Hindu temple situated...</td>\n",
       "      <td>koranganatha templ hindu templ situat town sri...</td>\n",
       "    </tr>\n",
       "    <tr>\n",
       "      <th>4087359</th>\n",
       "      <td>MISC-MIFA are the previous champion and curren...</td>\n",
       "      <td>neutral</td>\n",
       "      <td>wikipedia</td>\n",
       "      <td>MISC-MIFA are the previous champion and curren...</td>\n",
       "      <td>miscmifa previou champion current play second ...</td>\n",
       "    </tr>\n",
       "    <tr>\n",
       "      <th>5024339</th>\n",
       "      <td>She was a correspondent with Henry James, and ...</td>\n",
       "      <td>neutral</td>\n",
       "      <td>wikipedia</td>\n",
       "      <td>She was a correspondent with Henry James and w...</td>\n",
       "      <td>she correspond henri jame work pierr villey</td>\n",
       "    </tr>\n",
       "  </tbody>\n",
       "</table>\n",
       "</div>"
      ],
      "text/plain": [
       "                                                  sentence sentiment  \\\n",
       "6106192  The group, between them, own over 700 brands a...   neutral   \n",
       "4864979  Scheduled in Smart Araneta Coliseum on Februar...   neutral   \n",
       "3416916  It was first published in Four Color Comics #3...   neutral   \n",
       "6112173  The group sophisticatedly utilizes social medi...   neutral   \n",
       "2536301  In 2012, he ventured into acting, appearing in...   neutral   \n",
       "1346915  Edward Kellogg Baird (July 13, 1876 - 1951), w...   neutral   \n",
       "2836388  It began in the mid-nineteenth century, with t...   neutral   \n",
       "3747098  Koranganatha Temple is a Hindu temple situated...   neutral   \n",
       "4087359  MISC-MIFA are the previous champion and curren...   neutral   \n",
       "5024339  She was a correspondent with Henry James, and ...   neutral   \n",
       "\n",
       "            source                                            cleaned  \\\n",
       "6106192  wikipedia  The group between them own over 700 brands and...   \n",
       "4864979  wikipedia  Scheduled in Smart Araneta Coliseum on Februar...   \n",
       "3416916  wikipedia  It was first published in Four Color Comics  M...   \n",
       "6112173  wikipedia  The group sophisticatedly utilizes social medi...   \n",
       "2536301  wikipedia  In 2012 he ventured into acting appearing in t...   \n",
       "1346915  wikipedia  Edward Kellogg Baird (July 13 1876 1951) was a...   \n",
       "2836388  wikipedia  It began in the mid-nineteenth century with th...   \n",
       "3747098  wikipedia  Koranganatha Temple is a Hindu temple situated...   \n",
       "4087359  wikipedia  MISC-MIFA are the previous champion and curren...   \n",
       "5024339  wikipedia  She was a correspondent with Henry James and w...   \n",
       "\n",
       "                                            cleaned_tweets  \n",
       "6106192                       the group 700 brand 4200 pub  \n",
       "4864979  schedul smart araneta coliseum februari 5 2017...  \n",
       "3416916  It first publish four color comic march 1952 s...  \n",
       "6112173  the group sophisticatedli util social media to...  \n",
       "2536301       In 2012 ventur act appear film thunderstruck  \n",
       "1346915  edward kellogg baird juli 13 1876 1951 attorne...  \n",
       "2836388  It began midnineteenth centuri construct first...  \n",
       "3747098  koranganatha templ hindu templ situat town sri...  \n",
       "4087359  miscmifa previou champion current play second ...  \n",
       "5024339        she correspond henri jame work pierr villey  "
      ]
     },
     "execution_count": 41,
     "metadata": {},
     "output_type": "execute_result"
    }
   ],
   "source": [
    "wiki_sample.sample(10)"
   ]
  },
  {
   "cell_type": "code",
   "execution_count": 20,
   "metadata": {},
   "outputs": [
    {
     "data": {
      "text/plain": [
       "negative    414862\n",
       "positive    409341\n",
       "Name: sentiment, dtype: int64"
      ]
     },
     "execution_count": 20,
     "metadata": {},
     "output_type": "execute_result"
    }
   ],
   "source": [
    "master.sentiment.value_counts()"
   ]
  },
  {
   "cell_type": "code",
   "execution_count": 44,
   "metadata": {},
   "outputs": [
    {
     "data": {
      "text/plain": [
       "negative    414862\n",
       "positive    409341\n",
       "neutral     400000\n",
       "Name: sentiment, dtype: int64"
      ]
     },
     "execution_count": 44,
     "metadata": {},
     "output_type": "execute_result"
    }
   ],
   "source": [
    "master2 = (master.append(wiki_sample[['cleaned_tweets', 'sentiment', 'source']]\n",
    "          .reset_index(drop=True)))\n",
    "\n",
    "master2.sentiment.value_counts()"
   ]
  },
  {
   "cell_type": "code",
   "execution_count": 45,
   "metadata": {},
   "outputs": [
    {
     "data": {
      "text/html": [
       "<div>\n",
       "<style scoped>\n",
       "    .dataframe tbody tr th:only-of-type {\n",
       "        vertical-align: middle;\n",
       "    }\n",
       "\n",
       "    .dataframe tbody tr th {\n",
       "        vertical-align: top;\n",
       "    }\n",
       "\n",
       "    .dataframe thead th {\n",
       "        text-align: right;\n",
       "    }\n",
       "</style>\n",
       "<table border=\"1\" class=\"dataframe\">\n",
       "  <thead>\n",
       "    <tr style=\"text-align: right;\">\n",
       "      <th></th>\n",
       "      <th>cleaned_tweets</th>\n",
       "      <th>sentiment</th>\n",
       "      <th>source</th>\n",
       "    </tr>\n",
       "  </thead>\n",
       "  <tbody>\n",
       "    <tr>\n",
       "      <th>169415</th>\n",
       "      <td>httpbitly16fp4t um could bee hotter nahh</td>\n",
       "      <td>positive</td>\n",
       "      <td>stanford</td>\n",
       "    </tr>\n",
       "    <tr>\n",
       "      <th>370031</th>\n",
       "      <td>It conceiv follow perri divorc english actor c...</td>\n",
       "      <td>neutral</td>\n",
       "      <td>wikipedia</td>\n",
       "    </tr>\n",
       "    <tr>\n",
       "      <th>444754</th>\n",
       "      <td>isplay ha die sorri</td>\n",
       "      <td>negative</td>\n",
       "      <td>stanford</td>\n",
       "    </tr>\n",
       "    <tr>\n",
       "      <th>711180</th>\n",
       "      <td>Im hope littl less volatil tomorrow I want tak...</td>\n",
       "      <td>negative</td>\n",
       "      <td>stanford</td>\n",
       "    </tr>\n",
       "    <tr>\n",
       "      <th>264566</th>\n",
       "      <td>john hooker serv congreg deacon also accept be...</td>\n",
       "      <td>neutral</td>\n",
       "      <td>wikipedia</td>\n",
       "    </tr>\n",
       "    <tr>\n",
       "      <th>308519</th>\n",
       "      <td>watchin madonna truth dare girl banana go tour</td>\n",
       "      <td>positive</td>\n",
       "      <td>stanford</td>\n",
       "    </tr>\n",
       "    <tr>\n",
       "      <th>206506</th>\n",
       "      <td>Oh sorri read andr</td>\n",
       "      <td>negative</td>\n",
       "      <td>stanford</td>\n",
       "    </tr>\n",
       "    <tr>\n",
       "      <th>134960</th>\n",
       "      <td>As 2010 censu popul 136555</td>\n",
       "      <td>neutral</td>\n",
       "      <td>wikipedia</td>\n",
       "    </tr>\n",
       "    <tr>\n",
       "      <th>272127</th>\n",
       "      <td>long intergen nonprotein code rna 598 protein ...</td>\n",
       "      <td>neutral</td>\n",
       "      <td>wikipedia</td>\n",
       "    </tr>\n",
       "    <tr>\n",
       "      <th>605839</th>\n",
       "      <td>sighteth Im love even will pay extra</td>\n",
       "      <td>negative</td>\n",
       "      <td>stanford</td>\n",
       "    </tr>\n",
       "  </tbody>\n",
       "</table>\n",
       "</div>"
      ],
      "text/plain": [
       "                                           cleaned_tweets sentiment     source\n",
       "169415           httpbitly16fp4t um could bee hotter nahh  positive   stanford\n",
       "370031  It conceiv follow perri divorc english actor c...   neutral  wikipedia\n",
       "444754                                isplay ha die sorri  negative   stanford\n",
       "711180  Im hope littl less volatil tomorrow I want tak...  negative   stanford\n",
       "264566  john hooker serv congreg deacon also accept be...   neutral  wikipedia\n",
       "308519     watchin madonna truth dare girl banana go tour  positive   stanford\n",
       "206506                                 Oh sorri read andr  negative   stanford\n",
       "134960                         As 2010 censu popul 136555   neutral  wikipedia\n",
       "272127  long intergen nonprotein code rna 598 protein ...   neutral  wikipedia\n",
       "605839               sighteth Im love even will pay extra  negative   stanford"
      ]
     },
     "execution_count": 45,
     "metadata": {},
     "output_type": "execute_result"
    }
   ],
   "source": [
    "master2.sample(10)"
   ]
  },
  {
   "cell_type": "code",
   "execution_count": null,
   "metadata": {},
   "outputs": [],
   "source": [
    "# remove the null values and write to csv\n",
    "\n",
    "master2.to_csv('../data/master2.csv', index=False)"
   ]
  },
  {
   "cell_type": "markdown",
   "metadata": {},
   "source": [
    "### Let's really do the damn thang\n",
    "\n",
    "#### Sklearn"
   ]
  },
  {
   "cell_type": "code",
   "execution_count": 19,
   "metadata": {},
   "outputs": [
    {
     "name": "stdout",
     "output_type": "stream",
     "text": [
      "(824203, 3)\n"
     ]
    },
    {
     "data": {
      "text/html": [
       "<div>\n",
       "<style scoped>\n",
       "    .dataframe tbody tr th:only-of-type {\n",
       "        vertical-align: middle;\n",
       "    }\n",
       "\n",
       "    .dataframe tbody tr th {\n",
       "        vertical-align: top;\n",
       "    }\n",
       "\n",
       "    .dataframe thead th {\n",
       "        text-align: right;\n",
       "    }\n",
       "</style>\n",
       "<table border=\"1\" class=\"dataframe\">\n",
       "  <thead>\n",
       "    <tr style=\"text-align: right;\">\n",
       "      <th></th>\n",
       "      <th>cleaned_tweets</th>\n",
       "      <th>sentiment</th>\n",
       "      <th>source</th>\n",
       "    </tr>\n",
       "  </thead>\n",
       "  <tbody>\n",
       "    <tr>\n",
       "      <th>0</th>\n",
       "      <td>supercalafragilelisticexpialadoshu wow guess i...</td>\n",
       "      <td>positive</td>\n",
       "      <td>stanford</td>\n",
       "    </tr>\n",
       "    <tr>\n",
       "      <th>1</th>\n",
       "      <td>went church hour ago</td>\n",
       "      <td>positive</td>\n",
       "      <td>stanford</td>\n",
       "    </tr>\n",
       "    <tr>\n",
       "      <th>2</th>\n",
       "      <td>dnt point often end video crazi guy clapn n da...</td>\n",
       "      <td>negative</td>\n",
       "      <td>stanford</td>\n",
       "    </tr>\n",
       "    <tr>\n",
       "      <th>3</th>\n",
       "      <td>stomach realli friendli moment uhhhhh</td>\n",
       "      <td>negative</td>\n",
       "      <td>stanford</td>\n",
       "    </tr>\n",
       "    <tr>\n",
       "      <th>4</th>\n",
       "      <td>quotnutella banana bread well that right blasp...</td>\n",
       "      <td>positive</td>\n",
       "      <td>stanford</td>\n",
       "    </tr>\n",
       "  </tbody>\n",
       "</table>\n",
       "</div>"
      ],
      "text/plain": [
       "                                      cleaned_tweets sentiment    source\n",
       "0  supercalafragilelisticexpialadoshu wow guess i...  positive  stanford\n",
       "1                               went church hour ago  positive  stanford\n",
       "2  dnt point often end video crazi guy clapn n da...  negative  stanford\n",
       "3              stomach realli friendli moment uhhhhh  negative  stanford\n",
       "4  quotnutella banana bread well that right blasp...  positive  stanford"
      ]
     },
     "execution_count": 19,
     "metadata": {},
     "output_type": "execute_result"
    }
   ],
   "source": [
    "master2 = pd.read_csv('../data/training_data/master2.csv')\n",
    "master2 = master2[master2.cleaned_tweets.notnull()]\n",
    "\n",
    "print(master.shape)\n",
    "master.head()"
   ]
  },
  {
   "cell_type": "code",
   "execution_count": null,
   "metadata": {},
   "outputs": [],
   "source": [
    "sklearn_naive_bayes(master['cleaned_tweets'], master['sentiment'], 3000)"
   ]
  },
  {
   "cell_type": "code",
   "execution_count": 23,
   "metadata": {},
   "outputs": [
    {
     "name": "stdout",
     "output_type": "stream",
     "text": [
      "Accuracy on training set:\n",
      "0.762495308597\n",
      "Accuracy on testing set:\n",
      "0.758977146435\n",
      "Classification Report:\n",
      "              precision    recall  f1-score   support\n",
      "\n",
      "    negative       0.76      0.77      0.76    103642\n",
      "    positive       0.76      0.75      0.76    102409\n",
      "\n",
      "   micro avg       0.76      0.76      0.76    206051\n",
      "   macro avg       0.76      0.76      0.76    206051\n",
      "weighted avg       0.76      0.76      0.76    206051\n",
      "\n"
     ]
    }
   ],
   "source": [
    "# sklearn_naive_bayes(df['cleaned_tweets'], df['sentiment'], 500)\n",
    "\n",
    "vect = TfidfVectorizer(ngram_range=(1, 2), max_features=5000)\n",
    "X = vect.fit_transform(master['cleaned_tweets'])\n",
    "y = master['sentiment']\n",
    "\n",
    "#Partitioning the data into test and training set\n",
    "SPLIT_PERC = 0.75\n",
    "split_size = int(len(y)*SPLIT_PERC)\n",
    "\n",
    "X_train = X[:split_size]\n",
    "X_test = X[split_size:]\n",
    "y_train = y[:split_size]\n",
    "y_test = y[split_size:]\n",
    "\n",
    "#Training the model\n",
    "clf = MultinomialNB()\n",
    "clf.fit(X_train, y_train)\n",
    "\n",
    "#Evaluating the results\n",
    "print(\"Accuracy on training set:\")\n",
    "print(clf.score(X_train, y_train))\n",
    "print(\"Accuracy on testing set:\")\n",
    "print(clf.score(X_test, y_test))\n",
    "y_pred = clf.predict(X_test)\n",
    "print(\"Classification Report:\")\n",
    "print(metrics.classification_report(y_test, y_pred))\n"
   ]
  },
  {
   "cell_type": "code",
   "execution_count": 24,
   "metadata": {
    "collapsed": true
   },
   "outputs": [],
   "source": [
    "# this code was written by a sklearn dev to show most_important_features for sklearn,\n",
    "# similar to how NLTK does.\n",
    "\n",
    "def print_top10(vectorizer, clf, class_labels):\n",
    "    \"\"\"Prints features with the highest coefficient values, per class\"\"\"\n",
    "    feature_names = vectorizer.get_feature_names()\n",
    "    for class_label in clf.classes_:\n",
    "        top10 = np.argsort(clf.coef_)[-10:]\n",
    "    print(\"%s: %s\" % (class_label,\n",
    "          \" \".join(feature_names[j] for j in top10)))\n",
    "\n",
    "# print_top10(vect, clf, y_train)"
   ]
  },
  {
   "cell_type": "code",
   "execution_count": 25,
   "metadata": {},
   "outputs": [
    {
     "name": "stdout",
     "output_type": "stream",
     "text": [
      "\t-13.5081\tfarrah fawcett \t\t-4.6453\tthank          \n",
      "\t-13.5081\tfawcett        \t\t-4.8179\tlove           \n",
      "\t-13.5081\tlost pleas     \t\t-4.8784\tgood           \n",
      "\t-12.8633\thappi father   \t\t-4.9835\tim             \n",
      "\t-12.8504\thate sick      \t\t-5.1075\tgo             \n",
      "\t-12.6899\tnot happi      \t\t-5.1663\tday            \n",
      "\t-12.5996\ttummi ach      \t\t-5.3182\tget            \n",
      "\t-12.4918\trealli hurt    \t\t-5.3551\tlike           \n",
      "\t-12.4655\tim lone        \t\t-5.3686\tlol            \n",
      "\t-12.4447\tnot feel       \t\t-5.4892\ttime           \n",
      "\t-12.4255\tflight cancel  \t\t-5.5729\tgot            \n",
      "\t-12.2953\tmy poor        \t\t-5.5759\twatch          \n",
      "\t-12.2840\tmuch pain      \t\t-5.5968\tgreat          \n",
      "\t-12.2752\tsad cant       \t\t-5.6145\ttoday          \n",
      "\t-12.2515\tso sad         \t\t-5.6240\tsee            \n",
      "\t-12.2492\tpass away      \t\t-5.6281\tnew            \n",
      "\t-12.2374\tstomach hurt   \t\t-5.6514\tone            \n",
      "\t-12.2345\tcancel flight  \t\t-5.6659\tknow           \n",
      "\t-12.2234\tsad time       \t\t-5.6989\twork           \n",
      "\t-12.1996\tsad face       \t\t-5.7021\tmorn           \n",
      "\t-12.1865\tmy tummi       \t\t-5.7110\twell           \n",
      "\t-12.1732\tsad sad        \t\t-5.7115\tthat           \n",
      "\t-12.1535\tim upset       \t\t-5.7158\thappi          \n",
      "\t-12.1454\tsad miss       \t\t-5.7292\thaha           \n",
      "\t-12.1417\toh noe         \t\t-5.7360\ttwitter        \n",
      "\t-12.0998\tlate flight    \t\t-5.7460\tfollow         \n",
      "\t-12.0931\tback hurt      \t\t-5.7572\tthink          \n",
      "\t-12.0581\ttummi hurt     \t\t-5.7638\tnight          \n",
      "\t-12.0404\titchi          \t\t-5.7668\tit             \n",
      "\t-12.0320\tsad day        \t\t-5.7701\tback           \n",
      "\t-11.9946\tugh hate       \t\t-5.7735\thope           \n",
      "\t-11.9661\thurt bad       \t\t-5.8138\tlook           \n",
      "\t-11.9509\twant cri       \t\t-5.8684\tmake           \n",
      "\t-11.9371\trealli sick    \t\t-5.8730\tnice           \n",
      "\t-11.9286\tsad see        \t\t-5.8783\tfun            \n",
      "\t-11.9260\tflightl        \t\t-5.8952\tyou            \n",
      "\t-11.9250\tcancel flightl \t\t-5.9017\tyour           \n",
      "\t-11.9079\tit sad         \t\t-5.9154\tcome           \n",
      "\t-11.9076\tcouldnt make   \t\t-5.9173\tamp            \n",
      "\t-11.9066\tthroat hurt    \t\t-5.9495\twait           \n",
      "\t-11.8907\tstuck work     \t\t-5.9737\they            \n",
      "\t-11.8875\thate work      \t\t-5.9786\tawesom         \n",
      "\t-11.8862\tmy back        \t\t-5.9960\tdont           \n",
      "\t-11.8854\tlike crap      \t\t-6.0384\tthe            \n",
      "\t-11.8821\tfeel ill       \t\t-6.0471\till            \n",
      "\t-11.8751\tstill miss     \t\t-6.0538\toh             \n",
      "\t-11.8595\tfarrah         \t\t-6.0543\tye             \n",
      "\t-11.8513\tflight delay   \t\t-6.0749\trealli         \n",
      "\t-11.8504\tpoorli         \t\t-6.0799\tmuch           \n",
      "\t-11.8409\tit suck        \t\t-6.1044\tcant           \n"
     ]
    }
   ],
   "source": [
    "# I don't really know how this works but the results seem interesting since we can see bigram importance\n",
    "\n",
    "def show_most_informative_features(vectorizer, clf, n=50):\n",
    "    feature_names = vectorizer.get_feature_names()\n",
    "    coefs_with_fns = sorted(zip(clf.coef_[0], feature_names))\n",
    "    top = zip(coefs_with_fns[:n], coefs_with_fns[:-(n + 1):-1])\n",
    "    for (coef_1, fn_1), (coef_2, fn_2) in top:\n",
    "        print \"\\t%.4f\\t%-15s\\t\\t%.4f\\t%-15s\" % (coef_1, fn_1, coef_2, fn_2)\n",
    "\n",
    "show_most_informative_features(vect, clf)"
   ]
  },
  {
   "cell_type": "markdown",
   "metadata": {
    "collapsed": true
   },
   "source": [
    "### let's mess around with CV and hyper parameter tuning\n",
    "\n",
    "My PML_3 notes in week 8 of NYCDS go over how to do this for classification models"
   ]
  },
  {
   "cell_type": "code",
   "execution_count": 26,
   "metadata": {},
   "outputs": [
    {
     "data": {
      "text/plain": [
       "array([ 0.75973817,  0.75785757,  0.75938025,  0.7601917 ,  0.75983378])"
      ]
     },
     "execution_count": 26,
     "metadata": {},
     "output_type": "execute_result"
    }
   ],
   "source": [
    "import sklearn.model_selection as ms\n",
    "\n",
    "random_divide = ms.KFold(n_splits=5)\n",
    "scores = ms.cross_val_score(estimator=clf,\n",
    "                            X=vect.fit_transform(master['cleaned_tweets']),\n",
    "                            y=master['sentiment'],\n",
    "                            cv=random_divide)\n",
    "scores"
   ]
  },
  {
   "cell_type": "markdown",
   "metadata": {
    "collapsed": true
   },
   "source": [
    "### You did CV, so now what? Stay tuned tomorrow on the next episode of I have no fucking idea what I'm doing.\n",
    "\n",
    "Purpose of CV: https://stats.stackexchange.com/questions/52274/how-to-choose-a-predictive-model-after-k-fold-cross-validation\n",
    "\n",
    "\n",
    "### Save this file to a pickle file since jupyter keeps crashing (modify code below)"
   ]
  },
  {
   "cell_type": "code",
   "execution_count": 27,
   "metadata": {
    "collapsed": true
   },
   "outputs": [],
   "source": [
    "save_classifier = open(\"master_naive_bayes_june22.pickle\", \"wb\")\n",
    "pickle.dump(clf, save_classifier)\n",
    "save_classifier.close()\n",
    "\n",
    "# # lets open the pickle file now\n",
    "# classifier_f = open(\"naive_bayes.pickle\", \"rb\")\n",
    "# classifier = pickle.load(classifier_f)\n",
    "# classifier_f.close()\n",
    "\n",
    "# # let's see how it does this time \n",
    "\n",
    "# word_features = [w[0] for w in all_words.most_common(3000)]\n",
    "\n",
    "# featuresets = [(find_features(rev), category) for (rev, category) in documents]\n",
    "\n",
    "# training_set = featuresets[:1900]\n",
    "# testing_set = featuresets[1900:]\n",
    "\n",
    "# print(\"Naive Bayes Algo accuracy:\", (nltk.classify.accuracy(classifier, testing_set))*100)\n",
    "# classifier.show_most_informative_features(15)\n",
    "\n"
   ]
  },
  {
   "cell_type": "markdown",
   "metadata": {
    "collapsed": true
   },
   "source": [
    "### NLTK Sentiment Analyzer documentation\n",
    "\n",
    "https://www.nltk.org/howto/sentiment.html\n",
    "\n",
    "What I think I want to do is have my Naive Bayes model classify tweets as pos/neg. Then, if it's classified as negative, apply from nltk.sentiment.vader import SentimentIntensityAnalyzer so the tweet so that we can measure HOW negative it is\n",
    "\n",
    "(in the future, maybe we can use a classification model to predict more than two categories - sentiment based on severity of language)\n",
    "\n",
    "\n",
    "### About the scoring\n",
    "\n",
    "- The compound score is computed by summing the valence scores of each word in the lexicon, adjusted according to the rules, and then normalized to be between -1 (most extreme negative) and +1 (most extreme positive). This is the most useful metric if you want a single unidimensional measure of sentiment for a given sentence. Calling it a 'normalized, weighted composite score' is accurate.\n",
    "\n",
    "- It is also useful for researchers who would like to set standardized thresholds for classifying sentences as either positive, neutral, or negative. Typical threshold values (used in the literature cited on this page) are:\n",
    "\n",
    "- positive sentiment: compound score >= 0.05\n",
    "- neutral sentiment: (compound score > -0.05) and (compound score < 0.05)\n",
    "- negative sentiment: compound score <= -0.05\n",
    "- The pos, neu, and neg scores are ratios for proportions of text that fall in each category (so these should all add up to be 1... or close to it with float operation). These are the most useful metrics if you want multidimensional measures of sentiment for a given sentence."
   ]
  },
  {
   "cell_type": "code",
   "execution_count": 30,
   "metadata": {},
   "outputs": [
    {
     "data": {
      "text/plain": [
       "{'compound': -0.1531, 'neg': 0.211, 'neu': 0.789, 'pos': 0.0}"
      ]
     },
     "execution_count": 30,
     "metadata": {},
     "output_type": "execute_result"
    }
   ],
   "source": [
    "from nltk.sentiment.vader import SentimentIntensityAnalyzer\n",
    "\n",
    "sid = SentimentIntensityAnalyzer()\n",
    "\n",
    "sid.polarity_scores(master.cleaned_tweets[3])"
   ]
  },
  {
   "cell_type": "code",
   "execution_count": 38,
   "metadata": {},
   "outputs": [
    {
     "data": {
      "text/html": [
       "<div>\n",
       "<style>\n",
       "    .dataframe thead tr:only-child th {\n",
       "        text-align: right;\n",
       "    }\n",
       "\n",
       "    .dataframe thead th {\n",
       "        text-align: left;\n",
       "    }\n",
       "\n",
       "    .dataframe tbody tr th {\n",
       "        vertical-align: top;\n",
       "    }\n",
       "</style>\n",
       "<table border=\"1\" class=\"dataframe\">\n",
       "  <thead>\n",
       "    <tr style=\"text-align: right;\">\n",
       "      <th></th>\n",
       "      <th>cleaned_tweets</th>\n",
       "      <th>sentiment</th>\n",
       "      <th>source</th>\n",
       "      <th>compound_score</th>\n",
       "      <th>neg_score</th>\n",
       "      <th>neu_score</th>\n",
       "      <th>pos_score</th>\n",
       "    </tr>\n",
       "  </thead>\n",
       "  <tbody>\n",
       "    <tr>\n",
       "      <th>125028</th>\n",
       "      <td>_hisself get 100 follow day use wwwtweeterfoll...</td>\n",
       "      <td>positive</td>\n",
       "      <td>stanford</td>\n",
       "      <td>0.4404</td>\n",
       "      <td>0.089</td>\n",
       "      <td>0.701</td>\n",
       "      <td>0.210</td>\n",
       "    </tr>\n",
       "    <tr>\n",
       "      <th>35005</th>\n",
       "      <td>I got today pour</td>\n",
       "      <td>negative</td>\n",
       "      <td>stanford</td>\n",
       "      <td>0.0000</td>\n",
       "      <td>0.000</td>\n",
       "      <td>1.000</td>\n",
       "      <td>0.000</td>\n",
       "    </tr>\n",
       "    <tr>\n",
       "      <th>175115</th>\n",
       "      <td>cant wait 4 day till</td>\n",
       "      <td>positive</td>\n",
       "      <td>stanford</td>\n",
       "      <td>0.0000</td>\n",
       "      <td>0.000</td>\n",
       "      <td>1.000</td>\n",
       "      <td>0.000</td>\n",
       "    </tr>\n",
       "    <tr>\n",
       "      <th>562727</th>\n",
       "      <td>Ha ive never notic thank fill</td>\n",
       "      <td>positive</td>\n",
       "      <td>stanford</td>\n",
       "      <td>0.0747</td>\n",
       "      <td>0.248</td>\n",
       "      <td>0.470</td>\n",
       "      <td>0.282</td>\n",
       "    </tr>\n",
       "    <tr>\n",
       "      <th>632885</th>\n",
       "      <td>good morn</td>\n",
       "      <td>positive</td>\n",
       "      <td>stanford</td>\n",
       "      <td>0.4404</td>\n",
       "      <td>0.000</td>\n",
       "      <td>0.256</td>\n",
       "      <td>0.744</td>\n",
       "    </tr>\n",
       "    <tr>\n",
       "      <th>538069</th>\n",
       "      <td>I dont like bingcom It doesnt know I exist</td>\n",
       "      <td>negative</td>\n",
       "      <td>stanford</td>\n",
       "      <td>-0.2755</td>\n",
       "      <td>0.260</td>\n",
       "      <td>0.740</td>\n",
       "      <td>0.000</td>\n",
       "    </tr>\n",
       "    <tr>\n",
       "      <th>152849</th>\n",
       "      <td>hill final LC get sens go back ur 60000episod ...</td>\n",
       "      <td>negative</td>\n",
       "      <td>stanford</td>\n",
       "      <td>0.0000</td>\n",
       "      <td>0.000</td>\n",
       "      <td>1.000</td>\n",
       "      <td>0.000</td>\n",
       "    </tr>\n",
       "    <tr>\n",
       "      <th>635012</th>\n",
       "      <td>My class start next monday I dont want go scho...</td>\n",
       "      <td>negative</td>\n",
       "      <td>stanford</td>\n",
       "      <td>-0.4628</td>\n",
       "      <td>0.201</td>\n",
       "      <td>0.799</td>\n",
       "      <td>0.000</td>\n",
       "    </tr>\n",
       "    <tr>\n",
       "      <th>555223</th>\n",
       "      <td>wait bu homeand walk 15 min bu station get hom...</td>\n",
       "      <td>negative</td>\n",
       "      <td>stanford</td>\n",
       "      <td>0.0000</td>\n",
       "      <td>0.000</td>\n",
       "      <td>1.000</td>\n",
       "      <td>0.000</td>\n",
       "    </tr>\n",
       "    <tr>\n",
       "      <th>551958</th>\n",
       "      <td>got home gfx tablet arriv cool natwest card re...</td>\n",
       "      <td>positive</td>\n",
       "      <td>stanford</td>\n",
       "      <td>0.8689</td>\n",
       "      <td>0.000</td>\n",
       "      <td>0.570</td>\n",
       "      <td>0.430</td>\n",
       "    </tr>\n",
       "  </tbody>\n",
       "</table>\n",
       "</div>"
      ],
      "text/plain": [
       "                                           cleaned_tweets sentiment    source  \\\n",
       "125028  _hisself get 100 follow day use wwwtweeterfoll...  positive  stanford   \n",
       "35005                                    I got today pour  negative  stanford   \n",
       "175115                               cant wait 4 day till  positive  stanford   \n",
       "562727                      Ha ive never notic thank fill  positive  stanford   \n",
       "632885                                          good morn  positive  stanford   \n",
       "538069         I dont like bingcom It doesnt know I exist  negative  stanford   \n",
       "152849  hill final LC get sens go back ur 60000episod ...  negative  stanford   \n",
       "635012  My class start next monday I dont want go scho...  negative  stanford   \n",
       "555223  wait bu homeand walk 15 min bu station get hom...  negative  stanford   \n",
       "551958  got home gfx tablet arriv cool natwest card re...  positive  stanford   \n",
       "\n",
       "        compound_score  neg_score  neu_score  pos_score  \n",
       "125028          0.4404      0.089      0.701      0.210  \n",
       "35005           0.0000      0.000      1.000      0.000  \n",
       "175115          0.0000      0.000      1.000      0.000  \n",
       "562727          0.0747      0.248      0.470      0.282  \n",
       "632885          0.4404      0.000      0.256      0.744  \n",
       "538069         -0.2755      0.260      0.740      0.000  \n",
       "152849          0.0000      0.000      1.000      0.000  \n",
       "635012         -0.4628      0.201      0.799      0.000  \n",
       "555223          0.0000      0.000      1.000      0.000  \n",
       "551958          0.8689      0.000      0.570      0.430  "
      ]
     },
     "execution_count": 38,
     "metadata": {},
     "output_type": "execute_result"
    }
   ],
   "source": [
    "# create  columns that contain compound, neg, neu, and pos kv's in the master dataframe\n",
    "# then, let's plot a histogram to see the distrubution of scores across each\n",
    "# negative and positive sentment that our naive bayes model has predicted.\n",
    "\n",
    "master['compound_score'] = master.cleaned_tweets.apply(lambda x: sid.polarity_scores(x)['compound'])\n",
    "master['neg_score'] = master.cleaned_tweets.apply(lambda x: sid.polarity_scores(x)['neg'])\n",
    "master['neu_score'] = master.cleaned_tweets.apply(lambda x: sid.polarity_scores(x)['neu'])\n",
    "master['pos_score'] = master.cleaned_tweets.apply(lambda x: sid.polarity_scores(x)['pos'])\n",
    "\n",
    "master.sample(10)"
   ]
  },
  {
   "cell_type": "markdown",
   "metadata": {},
   "source": [
    "# Seaborn"
   ]
  },
  {
   "cell_type": "code",
   "execution_count": 45,
   "metadata": {},
   "outputs": [
    {
     "data": {
      "text/plain": [
       "<matplotlib.axes._subplots.AxesSubplot at 0x15bfd1390>"
      ]
     },
     "execution_count": 45,
     "metadata": {},
     "output_type": "execute_result"
    },
    {
     "data": {
      "image/png": "[encoded data removed]",
      "text/plain": [
       "<matplotlib.figure.Figure at 0x150c88950>"
      ]
     },
     "metadata": {},
     "output_type": "display_data"
    }
   ],
   "source": [
    "# let's mess around with seaborn, because why not heck not\n",
    "\n",
    "# first take a distribution of each score\n",
    "sns.kdeplot(master['compound_score'], shade=True, label='Estimated PDF of compound score')"
   ]
  },
  {
   "cell_type": "code",
   "execution_count": 51,
   "metadata": {},
   "outputs": [
    {
     "data": {
      "text/plain": [
       "<matplotlib.axes._subplots.AxesSubplot at 0x152566ad0>"
      ]
     },
     "execution_count": 51,
     "metadata": {},
     "output_type": "execute_result"
    },
    {
     "data": {
      "image/png": "[encoded data removed]",
      "text/plain": [
       "<matplotlib.figure.Figure at 0x151361b90>"
      ]
     },
     "metadata": {},
     "output_type": "display_data"
    }
   ],
   "source": [
    "# pretty cool. most compound scores are around 0 which makes sense. what is the yaxis?\n",
    "sns.distplot(master['pos_score'])"
   ]
  },
  {
   "cell_type": "code",
   "execution_count": 52,
   "metadata": {},
   "outputs": [
    {
     "data": {
      "text/plain": [
       "<matplotlib.axes._subplots.AxesSubplot at 0x1603c1e50>"
      ]
     },
     "execution_count": 52,
     "metadata": {},
     "output_type": "execute_result"
    },
    {
     "data": {
      "image/png": "[encoded data removed]",
      "text/plain": [
       "<matplotlib.figure.Figure at 0x1603ec4d0>"
      ]
     },
     "metadata": {},
     "output_type": "display_data"
    }
   ],
   "source": [
    "sns.distplot(master['neg_score'])"
   ]
  },
  {
   "cell_type": "code",
   "execution_count": 53,
   "metadata": {},
   "outputs": [
    {
     "data": {
      "text/plain": [
       "<matplotlib.axes._subplots.AxesSubplot at 0x151dfea50>"
      ]
     },
     "execution_count": 53,
     "metadata": {},
     "output_type": "execute_result"
    },
    {
     "data": {
      "image/png": "[encoded data removed]",
      "text/plain": [
       "<matplotlib.figure.Figure at 0x15273c510>"
      ]
     },
     "metadata": {},
     "output_type": "display_data"
    }
   ],
   "source": [
    "sns.boxplot(x='sentiment', y='compound_score', data=master)"
   ]
  },
  {
   "cell_type": "code",
   "execution_count": 58,
   "metadata": {},
   "outputs": [
    {
     "data": {
      "text/plain": [
       "<seaborn.axisgrid.FacetGrid at 0x15bc31910>"
      ]
     },
     "execution_count": 58,
     "metadata": {},
     "output_type": "execute_result"
    },
    {
     "data": {
      "image/png": "[encoded data removed]",
      "text/plain": [
       "<matplotlib.figure.Figure at 0x153ae0e10>"
      ]
     },
     "metadata": {},
     "output_type": "display_data"
    }
   ],
   "source": [
    "sns.lmplot('pos_score', 'neg_score', master.loc[master.sentiment=='positive'])"
   ]
  },
  {
   "cell_type": "code",
   "execution_count": 60,
   "metadata": {},
   "outputs": [
    {
     "data": {
      "text/plain": [
       "<seaborn.axisgrid.FacetGrid at 0x130af6610>"
      ]
     },
     "execution_count": 60,
     "metadata": {},
     "output_type": "execute_result"
    },
    {
     "data": {
      "image/png": "[encoded data removed]",
      "text/plain": [
       "<matplotlib.figure.Figure at 0x130af6690>"
      ]
     },
     "metadata": {},
     "output_type": "display_data"
    }
   ],
   "source": [
    "sent_grid = sns.FacetGrid(master, col='sentiment', hue='sentiment', palette=\"Set1\", size=4)\n",
    "sent_grid.map(sns.distplot, \"compound_score\")"
   ]
  },
  {
   "cell_type": "markdown",
   "metadata": {},
   "source": [
    "It seems that the VADER compound scores are more prone to scoring positive sentiments very positive as opposed to scoring negative sentiments very negative. This might be a good graph to output to evaluate future tweets that we are trying to observe.\n",
    "\n",
    "Let's look at some of the positive compound_scores for the negatively categorized sentiments"
   ]
  },
  {
   "cell_type": "code",
   "execution_count": 69,
   "metadata": {},
   "outputs": [
    {
     "name": "stdout",
     "output_type": "stream",
     "text": [
      "45870\n"
     ]
    }
   ],
   "source": [
    "print(len(master.loc[(master.sentiment=='negative')&(master.compound_score>0.5)]))"
   ]
  },
  {
   "cell_type": "code",
   "execution_count": 72,
   "metadata": {},
   "outputs": [
    {
     "data": {
      "text/html": [
       "<div>\n",
       "<style>\n",
       "    .dataframe thead tr:only-child th {\n",
       "        text-align: right;\n",
       "    }\n",
       "\n",
       "    .dataframe thead th {\n",
       "        text-align: left;\n",
       "    }\n",
       "\n",
       "    .dataframe tbody tr th {\n",
       "        vertical-align: top;\n",
       "    }\n",
       "</style>\n",
       "<table border=\"1\" class=\"dataframe\">\n",
       "  <thead>\n",
       "    <tr style=\"text-align: right;\">\n",
       "      <th></th>\n",
       "      <th>cleaned_tweets</th>\n",
       "      <th>sentiment</th>\n",
       "      <th>source</th>\n",
       "      <th>compound_score</th>\n",
       "      <th>neg_score</th>\n",
       "      <th>neu_score</th>\n",
       "      <th>pos_score</th>\n",
       "    </tr>\n",
       "  </thead>\n",
       "  <tbody>\n",
       "    <tr>\n",
       "      <th>209098</th>\n",
       "      <td>good luck lendel jason graem sasha tonight eli...</td>\n",
       "      <td>negative</td>\n",
       "      <td>stanford</td>\n",
       "      <td>0.6886</td>\n",
       "      <td>0.071</td>\n",
       "      <td>0.584</td>\n",
       "      <td>0.345</td>\n",
       "    </tr>\n",
       "    <tr>\n",
       "      <th>474821</th>\n",
       "      <td>awww atleast home soon glad good day tho I hop...</td>\n",
       "      <td>negative</td>\n",
       "      <td>stanford</td>\n",
       "      <td>0.8316</td>\n",
       "      <td>0.000</td>\n",
       "      <td>0.506</td>\n",
       "      <td>0.494</td>\n",
       "    </tr>\n",
       "    <tr>\n",
       "      <th>424328</th>\n",
       "      <td>send rain way I love rain rare rain</td>\n",
       "      <td>negative</td>\n",
       "      <td>stanford</td>\n",
       "      <td>0.6369</td>\n",
       "      <td>0.000</td>\n",
       "      <td>0.588</td>\n",
       "      <td>0.412</td>\n",
       "    </tr>\n",
       "    <tr>\n",
       "      <th>518750</th>\n",
       "      <td>wow neverr money go dinner ha that fine cant s...</td>\n",
       "      <td>negative</td>\n",
       "      <td>stanford</td>\n",
       "      <td>0.7457</td>\n",
       "      <td>0.094</td>\n",
       "      <td>0.453</td>\n",
       "      <td>0.453</td>\n",
       "    </tr>\n",
       "    <tr>\n",
       "      <th>98164</th>\n",
       "      <td>wow rle show la love I think 1st show amp ksha...</td>\n",
       "      <td>negative</td>\n",
       "      <td>stanford</td>\n",
       "      <td>0.8891</td>\n",
       "      <td>0.000</td>\n",
       "      <td>0.571</td>\n",
       "      <td>0.429</td>\n",
       "    </tr>\n",
       "    <tr>\n",
       "      <th>672269</th>\n",
       "      <td>thank graviti s60 twitter client seem far bett...</td>\n",
       "      <td>negative</td>\n",
       "      <td>stanford</td>\n",
       "      <td>0.8271</td>\n",
       "      <td>0.000</td>\n",
       "      <td>0.580</td>\n",
       "      <td>0.420</td>\n",
       "    </tr>\n",
       "    <tr>\n",
       "      <th>264037</th>\n",
       "      <td>much fun lolim sooo tiredi headach sinc 8 last...</td>\n",
       "      <td>negative</td>\n",
       "      <td>stanford</td>\n",
       "      <td>0.5106</td>\n",
       "      <td>0.000</td>\n",
       "      <td>0.708</td>\n",
       "      <td>0.292</td>\n",
       "    </tr>\n",
       "    <tr>\n",
       "      <th>648136</th>\n",
       "      <td>hope feel better soon enjoy listen meet</td>\n",
       "      <td>negative</td>\n",
       "      <td>stanford</td>\n",
       "      <td>0.8402</td>\n",
       "      <td>0.000</td>\n",
       "      <td>0.308</td>\n",
       "      <td>0.692</td>\n",
       "    </tr>\n",
       "    <tr>\n",
       "      <th>446438</th>\n",
       "      <td>ye know but wish didnt</td>\n",
       "      <td>negative</td>\n",
       "      <td>stanford</td>\n",
       "      <td>0.5499</td>\n",
       "      <td>0.000</td>\n",
       "      <td>0.530</td>\n",
       "      <td>0.470</td>\n",
       "    </tr>\n",
       "    <tr>\n",
       "      <th>388609</th>\n",
       "      <td>cab airport got pull cop illeg right turn hope...</td>\n",
       "      <td>negative</td>\n",
       "      <td>stanford</td>\n",
       "      <td>0.5178</td>\n",
       "      <td>0.000</td>\n",
       "      <td>0.697</td>\n",
       "      <td>0.303</td>\n",
       "    </tr>\n",
       "  </tbody>\n",
       "</table>\n",
       "</div>"
      ],
      "text/plain": [
       "                                           cleaned_tweets sentiment    source  \\\n",
       "209098  good luck lendel jason graem sasha tonight eli...  negative  stanford   \n",
       "474821  awww atleast home soon glad good day tho I hop...  negative  stanford   \n",
       "424328                send rain way I love rain rare rain  negative  stanford   \n",
       "518750  wow neverr money go dinner ha that fine cant s...  negative  stanford   \n",
       "98164   wow rle show la love I think 1st show amp ksha...  negative  stanford   \n",
       "672269  thank graviti s60 twitter client seem far bett...  negative  stanford   \n",
       "264037  much fun lolim sooo tiredi headach sinc 8 last...  negative  stanford   \n",
       "648136            hope feel better soon enjoy listen meet  negative  stanford   \n",
       "446438                             ye know but wish didnt  negative  stanford   \n",
       "388609  cab airport got pull cop illeg right turn hope...  negative  stanford   \n",
       "\n",
       "        compound_score  neg_score  neu_score  pos_score  \n",
       "209098          0.6886      0.071      0.584      0.345  \n",
       "474821          0.8316      0.000      0.506      0.494  \n",
       "424328          0.6369      0.000      0.588      0.412  \n",
       "518750          0.7457      0.094      0.453      0.453  \n",
       "98164           0.8891      0.000      0.571      0.429  \n",
       "672269          0.8271      0.000      0.580      0.420  \n",
       "264037          0.5106      0.000      0.708      0.292  \n",
       "648136          0.8402      0.000      0.308      0.692  \n",
       "446438          0.5499      0.000      0.530      0.470  \n",
       "388609          0.5178      0.000      0.697      0.303  "
      ]
     },
     "execution_count": 72,
     "metadata": {},
     "output_type": "execute_result"
    }
   ],
   "source": [
    "master.loc[(master.sentiment=='negative')&(master.compound_score>0.5)].sample(10)"
   ]
  },
  {
   "cell_type": "code",
   "execution_count": 76,
   "metadata": {},
   "outputs": [
    {
     "name": "stdout",
     "output_type": "stream",
     "text": [
      "10850\n"
     ]
    }
   ],
   "source": [
    "# What about the opposite? How many positive sentiment tweets have a negative compound score?\n",
    "print(len(master.loc[(master.sentiment=='positive')&(master.compound_score<-0.5)]))\n",
    "# nvm nvm"
   ]
  },
  {
   "cell_type": "code",
   "execution_count": 75,
   "metadata": {},
   "outputs": [
    {
     "data": {
      "text/html": [
       "<div>\n",
       "<style>\n",
       "    .dataframe thead tr:only-child th {\n",
       "        text-align: right;\n",
       "    }\n",
       "\n",
       "    .dataframe thead th {\n",
       "        text-align: left;\n",
       "    }\n",
       "\n",
       "    .dataframe tbody tr th {\n",
       "        vertical-align: top;\n",
       "    }\n",
       "</style>\n",
       "<table border=\"1\" class=\"dataframe\">\n",
       "  <thead>\n",
       "    <tr style=\"text-align: right;\">\n",
       "      <th></th>\n",
       "      <th>cleaned_tweets</th>\n",
       "      <th>sentiment</th>\n",
       "      <th>source</th>\n",
       "      <th>compound_score</th>\n",
       "      <th>neg_score</th>\n",
       "      <th>neu_score</th>\n",
       "      <th>pos_score</th>\n",
       "    </tr>\n",
       "  </thead>\n",
       "  <tbody>\n",
       "    <tr>\n",
       "      <th>93631</th>\n",
       "      <td>also shit life shit</td>\n",
       "      <td>positive</td>\n",
       "      <td>stanford</td>\n",
       "      <td>-0.8020</td>\n",
       "      <td>0.783</td>\n",
       "      <td>0.217</td>\n",
       "      <td>0.000</td>\n",
       "    </tr>\n",
       "    <tr>\n",
       "      <th>114689</th>\n",
       "      <td>the horror twilight spread and wont like</td>\n",
       "      <td>positive</td>\n",
       "      <td>stanford</td>\n",
       "      <td>-0.7013</td>\n",
       "      <td>0.537</td>\n",
       "      <td>0.463</td>\n",
       "      <td>0.000</td>\n",
       "    </tr>\n",
       "    <tr>\n",
       "      <th>422437</th>\n",
       "      <td>think quotnow time panic famou person watch yo...</td>\n",
       "      <td>positive</td>\n",
       "      <td>stanford</td>\n",
       "      <td>-0.5106</td>\n",
       "      <td>0.231</td>\n",
       "      <td>0.769</td>\n",
       "      <td>0.000</td>\n",
       "    </tr>\n",
       "    <tr>\n",
       "      <th>362888</th>\n",
       "      <td>georgia rain last month amp complain fuck LA b...</td>\n",
       "      <td>positive</td>\n",
       "      <td>stanford</td>\n",
       "      <td>-0.8689</td>\n",
       "      <td>0.620</td>\n",
       "      <td>0.380</td>\n",
       "      <td>0.000</td>\n",
       "    </tr>\n",
       "    <tr>\n",
       "      <th>35512</th>\n",
       "      <td>anymommi bummer labor pain sinc guess juli 5</td>\n",
       "      <td>positive</td>\n",
       "      <td>stanford</td>\n",
       "      <td>-0.7096</td>\n",
       "      <td>0.541</td>\n",
       "      <td>0.459</td>\n",
       "      <td>0.000</td>\n",
       "    </tr>\n",
       "    <tr>\n",
       "      <th>226067</th>\n",
       "      <td>joiningtri figur look shit</td>\n",
       "      <td>positive</td>\n",
       "      <td>stanford</td>\n",
       "      <td>-0.5574</td>\n",
       "      <td>0.545</td>\n",
       "      <td>0.455</td>\n",
       "      <td>0.000</td>\n",
       "    </tr>\n",
       "    <tr>\n",
       "      <th>540275</th>\n",
       "      <td>thanku much 4 info appreci seem like U never t...</td>\n",
       "      <td>positive</td>\n",
       "      <td>stanford</td>\n",
       "      <td>-0.6529</td>\n",
       "      <td>0.385</td>\n",
       "      <td>0.492</td>\n",
       "      <td>0.123</td>\n",
       "    </tr>\n",
       "    <tr>\n",
       "      <th>173341</th>\n",
       "      <td>said bye deadli bitch nasti girl nade gon na m...</td>\n",
       "      <td>positive</td>\n",
       "      <td>stanford</td>\n",
       "      <td>-0.6597</td>\n",
       "      <td>0.278</td>\n",
       "      <td>0.722</td>\n",
       "      <td>0.000</td>\n",
       "    </tr>\n",
       "    <tr>\n",
       "      <th>212555</th>\n",
       "      <td>ice block hell ya</td>\n",
       "      <td>positive</td>\n",
       "      <td>stanford</td>\n",
       "      <td>-0.8176</td>\n",
       "      <td>0.789</td>\n",
       "      <td>0.211</td>\n",
       "      <td>0.000</td>\n",
       "    </tr>\n",
       "    <tr>\n",
       "      <th>649112</th>\n",
       "      <td>No problem adam As matweep I special featur ge...</td>\n",
       "      <td>positive</td>\n",
       "      <td>stanford</td>\n",
       "      <td>-0.7845</td>\n",
       "      <td>0.451</td>\n",
       "      <td>0.423</td>\n",
       "      <td>0.127</td>\n",
       "    </tr>\n",
       "  </tbody>\n",
       "</table>\n",
       "</div>"
      ],
      "text/plain": [
       "                                           cleaned_tweets sentiment    source  \\\n",
       "93631                                 also shit life shit  positive  stanford   \n",
       "114689           the horror twilight spread and wont like  positive  stanford   \n",
       "422437  think quotnow time panic famou person watch yo...  positive  stanford   \n",
       "362888  georgia rain last month amp complain fuck LA b...  positive  stanford   \n",
       "35512        anymommi bummer labor pain sinc guess juli 5  positive  stanford   \n",
       "226067                         joiningtri figur look shit  positive  stanford   \n",
       "540275  thanku much 4 info appreci seem like U never t...  positive  stanford   \n",
       "173341  said bye deadli bitch nasti girl nade gon na m...  positive  stanford   \n",
       "212555                                  ice block hell ya  positive  stanford   \n",
       "649112  No problem adam As matweep I special featur ge...  positive  stanford   \n",
       "\n",
       "        compound_score  neg_score  neu_score  pos_score  \n",
       "93631          -0.8020      0.783      0.217      0.000  \n",
       "114689         -0.7013      0.537      0.463      0.000  \n",
       "422437         -0.5106      0.231      0.769      0.000  \n",
       "362888         -0.8689      0.620      0.380      0.000  \n",
       "35512          -0.7096      0.541      0.459      0.000  \n",
       "226067         -0.5574      0.545      0.455      0.000  \n",
       "540275         -0.6529      0.385      0.492      0.123  \n",
       "173341         -0.6597      0.278      0.722      0.000  \n",
       "212555         -0.8176      0.789      0.211      0.000  \n",
       "649112         -0.7845      0.451      0.423      0.127  "
      ]
     },
     "execution_count": 75,
     "metadata": {},
     "output_type": "execute_result"
    }
   ],
   "source": [
    "master.loc[(master.sentiment=='positive')&(master.compound_score<-0.5)].sample(10)"
   ]
  },
  {
   "cell_type": "markdown",
   "metadata": {},
   "source": [
    "### this isn't necessarily a knock on the model, but issues can arise:\n",
    "- we are seeing a discrepancy between the compound_score and the prelabeled sentiment\n",
    "- the methodologies for labeling the texts/tweets could potentially not be fully accurate, or up to judgement\n",
    "- certain words cause the compound score to be skewed (possibly swear words)\n",
    "- maybe we can somehow visualize what words show up more often in the extreme cases of each scenario, e.g., positive sentiments with compound scores less than -0.5, and negative sentiments with compound scores > 0.5?\n",
    "\n",
    "What's the best way to do that?\n",
    "\n",
    "LISTEN - I know this part is tedious and kinda boring and repetitive, but the end product relaly will show a difference. We want to make sure that when we do categorize a NYCTSubway reply as positive or negative that we can decipher these weird outliers so that we aren't telling people to be polite or to fuck off if they're actually being nice."
   ]
  },
  {
   "cell_type": "code",
   "execution_count": 82,
   "metadata": {},
   "outputs": [
    {
     "name": "stdout",
     "output_type": "stream",
     "text": [
      "The top 50 most common words are:\n",
      "[(u'I', 3532), (u'ill', 1017), (u'bad', 962), (u'Im', 902), (u'go', 832), (u'get', 826), (u'hell', 721), (u'fuck', 709), (u'dont', 698), (u'hate', 686), (u'day', 612), (u'know', 511), (u'im', 505), (u'got', 500), (u'time', 494), (u'shit', 487), (u'think', 461), (u'ass', 446), (u'one', 441), (u'cant', 438), (u'watch', 436), (u'u', 423), (u'see', 402), (u'kill', 388), (u'today', 382), (u'work', 378), (u'No', 377), (u'back', 370), (u'make', 364), (u'that', 362), (u'love', 362), (u'the', 353), (u'like', 353), (u'amp', 349), (u'twitter', 342), (u'na', 316), (u'night', 310), (u'sick', 308), (u'bitch', 298), (u'new', 297), (u'still', 295), (u'2', 291), (u'die', 291), (u'you', 289), (u'want', 280), (u'realli', 276), (u'stupid', 274), (u'look', 271), (u'need', 266), (u'your', 262)]\n"
     ]
    }
   ],
   "source": [
    "# positive outlier most common words\n",
    "\n",
    "pos_outliers = master.loc[(master.sentiment=='positive') & \n",
    "                          (master.compound_score<-0.5)]['cleaned_tweets']\n",
    "\n",
    "po_tweets = ' '.join(pos_outliers).split()\n",
    "freq_po_tweets = nltk.FreqDist(po_tweets)\n",
    "\n",
    "print('The top 50 most common words are:')\n",
    "print(freq_po_tweets.most_common(50))"
   ]
  },
  {
   "cell_type": "code",
   "execution_count": 94,
   "metadata": {},
   "outputs": [
    {
     "data": {
      "text/plain": [
       "array([u'laker are back IN the final bitch',\n",
       "       u'freakin wait weekend 4 day bitch', u'alright bitch get ass LA',\n",
       "       u'famili parti hasnt even start food greedi bitch',\n",
       "       u'jack bumbl bee mark hoppuss futur wife he awear yet divorc bitch',\n",
       "       u'blond bitch hannah go jump puddl lolxx',\n",
       "       u'ode confus O state confus you suck I hate Go die bitch Im creativ right',\n",
       "       u'On post romanc event michael show weak amp Fi tortur poor man shouldv known better We mean bitch',\n",
       "       'break bitch half', u'_shemer whi QA bitch'], dtype=object)"
      ]
     },
     "execution_count": 94,
     "metadata": {},
     "output_type": "execute_result"
    }
   ],
   "source": [
    "master.loc[(master.sentiment=='positive') & (master.compound_score<-0.5) &\n",
    "          (master.cleaned_tweets.str.contains('bitch'))]['cleaned_tweets'].sample(10).values"
   ]
  },
  {
   "cell_type": "code",
   "execution_count": 92,
   "metadata": {},
   "outputs": [
    {
     "data": {
      "text/plain": [
       "<matplotlib.text.Text at 0x1138dad10>"
      ]
     },
     "execution_count": 92,
     "metadata": {},
     "output_type": "execute_result"
    },
    {
     "data": {
      "image/png": "[encoded data removed]",
      "text/plain": [
       "<matplotlib.figure.Figure at 0x112d39f90>"
      ]
     },
     "metadata": {},
     "output_type": "display_data"
    }
   ],
   "source": [
    "from wordcloud import WordCloud\n",
    "\n",
    "def create_corpus(tweet_text):\n",
    "    text = \"\"\n",
    "    for row in tweet_text:\n",
    "        text += row + \" \"\n",
    "\n",
    "    # remove the weird characters and hyperlinks from text\n",
    "    t1 = re.sub('https://t.co/[A-z0-9]+', '', text)\n",
    "    announce_corpus = re.sub('\\n|\\xe2|\\x80|\\xa6', '', t1)\n",
    "    return announce_corpus\n",
    "\n",
    "po_corpus = create_corpus(pos_outliers)\n",
    "wc = WordCloud(max_words=1000, background_color=\"white\").generate(po_corpus)\n",
    "plt.figure(figsize=(10, 6))\n",
    "plt.axis(\"off\")\n",
    "plt.imshow(wc)\n",
    "plt.title('Positive Outliers')\n",
    "# plt.imshow(wc.recolor(color_func=grey_color_func, random_state=3))"
   ]
  },
  {
   "cell_type": "code",
   "execution_count": 84,
   "metadata": {},
   "outputs": [
    {
     "name": "stdout",
     "output_type": "stream",
     "text": [
      "The top 50 most common words are:\n",
      "[(u'I', 22883), (u'love', 7724), (u'like', 5803), (u'good', 5123), (u'hope', 4569), (u'go', 4501), (u'wish', 4327), (u'get', 4237), (u'Im', 4114), (u'lol', 4076), (u'day', 3498), (u'fun', 3201), (u'work', 3143), (u'well', 3048), (u'great', 2936), (u'miss', 2701), (u'im', 2693), (u'feel', 2668), (u'dont', 2592), (u'want', 2565), (u'better', 2533), (u'got', 2515), (u'friend', 2475), (u'time', 2363), (u'cant', 2309), (u'today', 2294), (u'one', 2132), (u'u', 2105), (u'haha', 2105), (u'best', 2014), (u'realli', 2004), (u'back', 1938), (u'know', 1883), (u'see', 1842), (u'still', 1814), (u'would', 1759), (u'much', 1751), (u'thank', 1751), (u'could', 1645), (u'make', 1629), (u'need', 1616), (u'look', 1612), (u'home', 1588), (u'though', 1584), (u'night', 1556), (u'2', 1554), (u'last', 1542), (u'na', 1531), (u'amp', 1514), (u'think', 1496)]\n"
     ]
    }
   ],
   "source": [
    "# negative outlier most common words\n",
    "\n",
    "neg_outliers = master.loc[(master.sentiment=='negative') & \n",
    "                          (master.compound_score>0.5)]['cleaned_tweets']\n",
    "\n",
    "no_tweets = ' '.join(neg_outliers).split()\n",
    "freq_no_tweets = nltk.FreqDist(no_tweets)\n",
    "\n",
    "print('The top 50 most common words are:')\n",
    "print(freq_no_tweets.most_common(50))"
   ]
  },
  {
   "cell_type": "code",
   "execution_count": 95,
   "metadata": {},
   "outputs": [
    {
     "data": {
      "text/plain": [
       "array([u'it 3 day I tweet but that good caus I build new site So bit busi',\n",
       "       u'off work doin good weather outsid oh joy catch ya later',\n",
       "       u'had fun day friendshelp recept sai went well then went town aubrey still feel good',\n",
       "       u'good luck flood noth wors deal water',\n",
       "       u'man It feel good home now catch bill well I enjoy',\n",
       "       u'I clean like entir first floor hous it lookin good yup now time fix herr lookin like cat lick',\n",
       "       u'readi get next gen funder retreat start good woke earli not good cold water shower shave move',\n",
       "       u'got back home late last night good sleep bed miss disney thank good vb distract',\n",
       "       u'I lost pleas help find good home',\n",
       "       'well done tournament hope good weather next film project still cant get arc UK'], dtype=object)"
      ]
     },
     "execution_count": 95,
     "metadata": {},
     "output_type": "execute_result"
    }
   ],
   "source": [
    "master.loc[(master.sentiment=='negative') & (master.compound_score>0.5) &\n",
    "          (master.cleaned_tweets.str.contains('good'))]['cleaned_tweets'].sample(10).values"
   ]
  },
  {
   "cell_type": "code",
   "execution_count": 93,
   "metadata": {},
   "outputs": [
    {
     "data": {
      "text/plain": [
       "<matplotlib.text.Text at 0x1539d47d0>"
      ]
     },
     "execution_count": 93,
     "metadata": {},
     "output_type": "execute_result"
    },
    {
     "data": {
      "image/png": "[encoded data removed]",
      "text/plain": [
       "<matplotlib.figure.Figure at 0x11b6541d0>"
      ]
     },
     "metadata": {},
     "output_type": "display_data"
    }
   ],
   "source": [
    "from wordcloud import WordCloud\n",
    "\n",
    "no_corpus = create_corpus(neg_outliers)\n",
    "wc = WordCloud(max_words=1000, background_color=\"white\").generate(no_corpus)\n",
    "plt.figure(figsize=(10, 6))\n",
    "plt.axis(\"off\")\n",
    "plt.imshow(wc)\n",
    "plt.title('Negative Outliers')\n",
    "# plt.imshow(wc.recolor(color_func=grey_color_func, random_state=3))"
   ]
  },
  {
   "cell_type": "markdown",
   "metadata": {},
   "source": [
    "So what are we seeing? In the positive outliers, we see that fuck and shit and other swear words make up some of the most common words, which is why the compound score is potentially skewed. The classification model and NLTK will disagree in these instances, so many we approach this problem a different way?\n",
    "\n",
    "- Have a list of obscene words and flag it any time you see it in a tweet. If you see a certain word, then respond a certain way.\n",
    "\n",
    "For the negative outliers, some of the most common words are love, like, good, hope, which NLTK vader will score as super positive. So what do we do in these instances?\n",
    "\n",
    "Maybe if we encounter scenarios where the tweet is classified as negative, but NLTK measures it as positive, then we leave it alone."
   ]
  },
  {
   "cell_type": "markdown",
   "metadata": {},
   "source": [
    "# Let's use some real data!!!"
   ]
  },
  {
   "cell_type": "code",
   "execution_count": 6,
   "metadata": {},
   "outputs": [
    {
     "ename": "FileNotFoundError",
     "evalue": "[Errno 2] No such file or directory: './data/NYCTtweets_feb_forward.json'",
     "output_type": "error",
     "traceback": [
      "\u001b[0;31m---------------------------------------------------------------------------\u001b[0m",
      "\u001b[0;31mFileNotFoundError\u001b[0m                         Traceback (most recent call last)",
      "\u001b[0;32m<ipython-input-6-00346f5ed01b>\u001b[0m in \u001b[0;36m<module>\u001b[0;34m\u001b[0m\n\u001b[1;32m      3\u001b[0m \u001b[0;34m\u001b[0m\u001b[0m\n\u001b[1;32m      4\u001b[0m \u001b[0mtweets\u001b[0m \u001b[0;34m=\u001b[0m \u001b[0;34m[\u001b[0m\u001b[0;34m]\u001b[0m\u001b[0;34m\u001b[0m\u001b[0;34m\u001b[0m\u001b[0m\n\u001b[0;32m----> 5\u001b[0;31m \u001b[0;32mfor\u001b[0m \u001b[0mline\u001b[0m \u001b[0;32min\u001b[0m \u001b[0mopen\u001b[0m\u001b[0;34m(\u001b[0m\u001b[0;34m'./data/NYCTtweets_feb_forward.json'\u001b[0m\u001b[0;34m,\u001b[0m \u001b[0;34m'r'\u001b[0m\u001b[0;34m)\u001b[0m\u001b[0;34m:\u001b[0m\u001b[0;34m\u001b[0m\u001b[0;34m\u001b[0m\u001b[0m\n\u001b[0m\u001b[1;32m      6\u001b[0m     \u001b[0mtweets\u001b[0m\u001b[0;34m.\u001b[0m\u001b[0mappend\u001b[0m\u001b[0;34m(\u001b[0m\u001b[0mline\u001b[0m\u001b[0;34m)\u001b[0m\u001b[0;34m\u001b[0m\u001b[0;34m\u001b[0m\u001b[0m\n\u001b[1;32m      7\u001b[0m \u001b[0;34m\u001b[0m\u001b[0m\n",
      "\u001b[0;31mFileNotFoundError\u001b[0m: [Errno 2] No such file or directory: './data/NYCTtweets_feb_forward.json'"
     ]
    }
   ],
   "source": [
    "# We've been continuously adding data to the file NYCTtweets_feb_forward.json for a while\n",
    "# now, so let's use that.\n",
    "\n",
    "tweets = []\n",
    "for line in open('./data/NYCTtweets_feb_forward.json', 'r'):\n",
    "    tweets.append(line)\n",
    "    \n",
    "print(\"The number of tweets is {}\".format(len(tweets)))\n",
    "\n",
    "def transform_json_to_df(tweets):\n",
    "    dt = []\n",
    "    tweet_id = []\n",
    "    tweet_text = []\n",
    "    screen_name = []\n",
    "    number_of_followers = []\n",
    "    in_reply_to = []\n",
    "\n",
    "    for counter, tweet in enumerate(tweets):\n",
    "        # print(counter)\n",
    "        if counter % 2 == 0:\n",
    "            if json.loads(tweet).get('delete') == None:\n",
    "                dt.append(json.loads(tweet).get('created_at'))\n",
    "                tweet_id.append(json.loads(tweet).get('id_str'))\n",
    "                tweet_text.append(json.loads(tweet).get('text'))\n",
    "                screen_name.append(json.loads(tweet)['user'].get('screen_name'))\n",
    "                in_reply_to.append(json.loads(tweet).get('in_reply_to_screen_name'))\n",
    "        else:\n",
    "            continue\n",
    "\n",
    "    df = pd.DataFrame({'dt': dt,\n",
    "                      'tweet_id': tweet_id,\n",
    "                      'tweet_text': tweet_text,\n",
    "                      'screen_name': screen_name,\n",
    "                      'in_reply_to': in_reply_to})\n",
    "    \n",
    "    return df\n",
    "\n",
    "eval_df = transform_json_to_df(tweets)\n",
    "# convert the tweet_text from unicode to str\n",
    "eval_df['tweet_text'] = eval_df.tweet_text.apply(lambda x: x.encode('utf-8'))\n",
    "print(eval_df.shape)\n",
    "eval_df.head()"
   ]
  },
  {
   "cell_type": "code",
   "execution_count": 5,
   "metadata": {},
   "outputs": [
    {
     "ename": "NameError",
     "evalue": "name 'eval_df' is not defined",
     "output_type": "error",
     "traceback": [
      "\u001b[0;31m---------------------------------------------------------------------------\u001b[0m",
      "\u001b[0;31mNameError\u001b[0m                                 Traceback (most recent call last)",
      "\u001b[0;32m<ipython-input-5-069ef19fa1b4>\u001b[0m in \u001b[0;36m<module>\u001b[0;34m\u001b[0m\n\u001b[0;32m----> 1\u001b[0;31m \u001b[0meval_df\u001b[0m\u001b[0;34m.\u001b[0m\u001b[0minfo\u001b[0m\u001b[0;34m(\u001b[0m\u001b[0;34m)\u001b[0m\u001b[0;34m\u001b[0m\u001b[0;34m\u001b[0m\u001b[0m\n\u001b[0m",
      "\u001b[0;31mNameError\u001b[0m: name 'eval_df' is not defined"
     ]
    }
   ],
   "source": [
    "eval_df.info()"
   ]
  },
  {
   "cell_type": "code",
   "execution_count": 32,
   "metadata": {},
   "outputs": [
    {
     "data": {
      "text/plain": [
       "array([ '@NYCTSubway @SarahMeyerNYC It\\xe2\\x80\\x99s been out for days. Should never be that long. Also, the escalator from the LIRR to\\xe2\\x80\\xa6 https://t.co/WDHdbklagj',\n",
       "       \"@NYCTSubway I'm glad I got it fix!! I consider my self from now on enforcer activist of subway shenanigans\",\n",
       "       '@NYCTSubway Where is the Fourth R179 A train . I am at Beach 60 St waiting go to Manhattan 14 St 8 Ave from Clinton',\n",
       "       '@NYCTSubway Where is the Fourth R179 A train is now from CLINTON',\n",
       "       '@NYCTSubway I am in Far Rockaway right now.  I waiting on the R179 A train to go to 14 St from Clinton',\n",
       "       '@NYCTSubway can I please get someone to call me back re: easypay metro? I\\xe2\\x80\\x99ve been on hold for the past half day. Thanks',\n",
       "       '@NYCTSubway Transit why your people coming here early in the morning so late at night making noise and people could\\xe2\\x80\\xa6 https://t.co/nZcBIV3wJt',\n",
       "       '@NYCTSubway Give me your Cell phone number so I can contact you so I can get it back to Far Rockaway later today ok from Clinton',\n",
       "       '@NYCTSubway https://t.co/b6xn7KSYqs',\n",
       "       \"@NYCTSubway Entrance to 103. There MIGHT be some at 96. But I didn't seem them.\",\n",
       "       '@NYCTSubway I know the R179 A train is at Mott Ave. WHERE is the Two of R179 A train is now from CLINTON',\n",
       "       '@NYCTSubway This happens way to often. A hard working New Yorker should not have to deal with this in their morning commute.',\n",
       "       '@NYCTSubway Where is the R179 A train is now in Hoyt St.  I am in the R179 A train heading to JFK AIRPORT GOING TO 14 ST 8 Ave from Clinton',\n",
       "       '@NYCTSubway This is on the 1 line. I took the pic just 10 mins ago.',\n",
       "       '@NYCTSubway what\\xe2\\x80\\x99s up with the L right now? Been waiting at first Ave for over 10 mins not sure what\\xe2\\x80\\x99s happening',\n",
       "       '@NYCTSubway Unfortunately I didn\\xe2\\x80\\x99t think to grab the car number. Instead, I sat crying on the 145th st platform wai\\xe2\\x80\\xa6 https://t.co/PdQkrWA8Ml',\n",
       "       '@NYCTSubway Where is the R179 A train is now in 14 St.  I am in the R179 A train heading to Broadway Junction GOING\\xe2\\x80\\xa6 https://t.co/BliHSr9PrO',\n",
       "       '@NYCTSubway Still not fixed. My L train skipped Jefferson and Dekalb Avenue. Now I have to wait for the train to go backwards.',\n",
       "       '@NYCTSubway Everyone can now literally get on the gay train! And still maintain their OWN sexuality! Shocking how t\\xe2\\x80\\xa6 https://t.co/NNyOLkRmLl',\n",
       "       '@NYCTSubway W 125th. Still no bus!!'], dtype=object)"
      ]
     },
     "execution_count": 32,
     "metadata": {},
     "output_type": "execute_result"
    }
   ],
   "source": [
    "# lets check out some of the more replies to NYCTSubway account\n",
    "eval_df.loc[(eval_df.in_reply_to=='NYCTSubway')]['tweet_text'].tail(20).values\n",
    "\n",
    "# eval_df.iloc[-20:]['tweet_text'].values"
   ]
  },
  {
   "cell_type": "markdown",
   "metadata": {},
   "source": [
    "### Let's clean this up and apply our model and see what's up"
   ]
  },
  {
   "cell_type": "code",
   "execution_count": 33,
   "metadata": {},
   "outputs": [
    {
     "data": {
      "text/html": [
       "<div>\n",
       "<style>\n",
       "    .dataframe thead tr:only-child th {\n",
       "        text-align: right;\n",
       "    }\n",
       "\n",
       "    .dataframe thead th {\n",
       "        text-align: left;\n",
       "    }\n",
       "\n",
       "    .dataframe tbody tr th {\n",
       "        vertical-align: top;\n",
       "    }\n",
       "</style>\n",
       "<table border=\"1\" class=\"dataframe\">\n",
       "  <thead>\n",
       "    <tr style=\"text-align: right;\">\n",
       "      <th></th>\n",
       "      <th>dt</th>\n",
       "      <th>in_reply_to</th>\n",
       "      <th>screen_name</th>\n",
       "      <th>tweet_id</th>\n",
       "      <th>tweet_text</th>\n",
       "      <th>cleaned</th>\n",
       "      <th>eval_text</th>\n",
       "    </tr>\n",
       "  </thead>\n",
       "  <tbody>\n",
       "    <tr>\n",
       "      <th>3637</th>\n",
       "      <td>Mon Feb 25 22:21:04 +0000 2019</td>\n",
       "      <td>None</td>\n",
       "      <td>KelKass</td>\n",
       "      <td>1100158764555096064</td>\n",
       "      <td>RT @NYCTSubway: Our crews are in the process o...</td>\n",
       "      <td>RT Our crews are in the process of cutting awa...</td>\n",
       "      <td>RT our crew process cut away remov fallen tree...</td>\n",
       "    </tr>\n",
       "    <tr>\n",
       "      <th>48921</th>\n",
       "      <td>Fri May 10 21:48:52 +0000 2019</td>\n",
       "      <td>MadelynOBoyle</td>\n",
       "      <td>NYCTSubway</td>\n",
       "      <td>1126967365030371330</td>\n",
       "      <td>@MadelynOBoyle Good Evening. There are residua...</td>\n",
       "      <td>Good Evening There are residual delays followi...</td>\n",
       "      <td>good even there residu delay follow earlier in...</td>\n",
       "    </tr>\n",
       "    <tr>\n",
       "      <th>16495</th>\n",
       "      <td>Tue Mar 19 01:19:42 +0000 2019</td>\n",
       "      <td>NYCTSubway</td>\n",
       "      <td>landelipipi</td>\n",
       "      <td>1107813867613237248</td>\n",
       "      <td>@NYCTSubway what's the status of the Jam bound...</td>\n",
       "      <td>what's the status of the Jam bound J At Chambe...</td>\n",
       "      <td>what statu jam bound J At chamber street</td>\n",
       "    </tr>\n",
       "    <tr>\n",
       "      <th>18397</th>\n",
       "      <td>Thu Mar 21 04:29:04 +0000 2019</td>\n",
       "      <td>akacuji</td>\n",
       "      <td>NYCTSubway</td>\n",
       "      <td>1108586297566920704</td>\n",
       "      <td>@akacuji We are seeing another bus approaching...</td>\n",
       "      <td>We are seeing another bus approaching Kew Gard...</td>\n",
       "      <td>We see anoth bu approach kew garden shortli RT</td>\n",
       "    </tr>\n",
       "    <tr>\n",
       "      <th>76144</th>\n",
       "      <td>Sun Jun 16 05:39:05 +0000 2019</td>\n",
       "      <td>BigBlakD</td>\n",
       "      <td>NYCTSubway</td>\n",
       "      <td>1140131661633478656</td>\n",
       "      <td>@BigBlakD Thank you. During late nights, 2 tra...</td>\n",
       "      <td>Thank you During late nights 2 trains make all...</td>\n",
       "      <td>thank dure late night 2 train make stop 96 St ...</td>\n",
       "    </tr>\n",
       "    <tr>\n",
       "      <th>48221</th>\n",
       "      <td>Fri May 10 11:59:25 +0000 2019</td>\n",
       "      <td>kskovan</td>\n",
       "      <td>NYCTSubway</td>\n",
       "      <td>1126819026641010688</td>\n",
       "      <td>@kskovan Sorry for the delays we're showing a ...</td>\n",
       "      <td>Sorry for the delays we're showing a northboun...</td>\n",
       "      <td>sorri delay show northbound R train went area ...</td>\n",
       "    </tr>\n",
       "    <tr>\n",
       "      <th>14499</th>\n",
       "      <td>Mon Mar 11 22:50:21 +0000 2019</td>\n",
       "      <td>sanspoint</td>\n",
       "      <td>sanspoint</td>\n",
       "      <td>1105239564833169410</td>\n",
       "      <td>@NYCTSubway Why even report shit? Why even bot...</td>\n",
       "      <td>Why even report shit Why even bother communica...</td>\n",
       "      <td>whi even report shit whi even bother commun mt...</td>\n",
       "    </tr>\n",
       "    <tr>\n",
       "      <th>1876</th>\n",
       "      <td>Sat Feb 23 14:32:50 +0000 2019</td>\n",
       "      <td>NYCTSubway</td>\n",
       "      <td>IronCapHulkThor</td>\n",
       "      <td>1099316157838966784</td>\n",
       "      <td>@NYCTSubway Homeless yet again</td>\n",
       "      <td>Homeless yet again</td>\n",
       "      <td>homeless yet</td>\n",
       "    </tr>\n",
       "    <tr>\n",
       "      <th>64105</th>\n",
       "      <td>Wed May 29 22:18:43 +0000 2019</td>\n",
       "      <td>6trainisamess</td>\n",
       "      <td>6trainisamess</td>\n",
       "      <td>1133860247704092673</td>\n",
       "      <td>@NYCTSubway And here arrives a second parkches...</td>\n",
       "      <td>And here arrives a second parkchester ending t...</td>\n",
       "      <td>and arriv second parkchest end train get pelha...</td>\n",
       "    </tr>\n",
       "    <tr>\n",
       "      <th>41185</th>\n",
       "      <td>Mon Apr 29 14:15:30 +0000 2019</td>\n",
       "      <td>NYCTSubway</td>\n",
       "      <td>Dave57643578</td>\n",
       "      <td>1122867004807868418</td>\n",
       "      <td>@NYCTSubway Ok thanks. What is the eta for tan...</td>\n",
       "      <td>Ok thanks What is the eta for tangible signal ...</td>\n",
       "      <td>Ok thank what eta tangibl signal improv Is decad</td>\n",
       "    </tr>\n",
       "  </tbody>\n",
       "</table>\n",
       "</div>"
      ],
      "text/plain": [
       "                                   dt    in_reply_to      screen_name  \\\n",
       "3637   Mon Feb 25 22:21:04 +0000 2019           None          KelKass   \n",
       "48921  Fri May 10 21:48:52 +0000 2019  MadelynOBoyle       NYCTSubway   \n",
       "16495  Tue Mar 19 01:19:42 +0000 2019     NYCTSubway      landelipipi   \n",
       "18397  Thu Mar 21 04:29:04 +0000 2019        akacuji       NYCTSubway   \n",
       "76144  Sun Jun 16 05:39:05 +0000 2019       BigBlakD       NYCTSubway   \n",
       "48221  Fri May 10 11:59:25 +0000 2019        kskovan       NYCTSubway   \n",
       "14499  Mon Mar 11 22:50:21 +0000 2019      sanspoint        sanspoint   \n",
       "1876   Sat Feb 23 14:32:50 +0000 2019     NYCTSubway  IronCapHulkThor   \n",
       "64105  Wed May 29 22:18:43 +0000 2019  6trainisamess    6trainisamess   \n",
       "41185  Mon Apr 29 14:15:30 +0000 2019     NYCTSubway     Dave57643578   \n",
       "\n",
       "                  tweet_id                                         tweet_text  \\\n",
       "3637   1100158764555096064  RT @NYCTSubway: Our crews are in the process o...   \n",
       "48921  1126967365030371330  @MadelynOBoyle Good Evening. There are residua...   \n",
       "16495  1107813867613237248  @NYCTSubway what's the status of the Jam bound...   \n",
       "18397  1108586297566920704  @akacuji We are seeing another bus approaching...   \n",
       "76144  1140131661633478656  @BigBlakD Thank you. During late nights, 2 tra...   \n",
       "48221  1126819026641010688  @kskovan Sorry for the delays we're showing a ...   \n",
       "14499  1105239564833169410  @NYCTSubway Why even report shit? Why even bot...   \n",
       "1876   1099316157838966784                     @NYCTSubway Homeless yet again   \n",
       "64105  1133860247704092673  @NYCTSubway And here arrives a second parkches...   \n",
       "41185  1122867004807868418  @NYCTSubway Ok thanks. What is the eta for tan...   \n",
       "\n",
       "                                                 cleaned  \\\n",
       "3637   RT Our crews are in the process of cutting awa...   \n",
       "48921  Good Evening There are residual delays followi...   \n",
       "16495  what's the status of the Jam bound J At Chambe...   \n",
       "18397  We are seeing another bus approaching Kew Gard...   \n",
       "76144  Thank you During late nights 2 trains make all...   \n",
       "48221  Sorry for the delays we're showing a northboun...   \n",
       "14499  Why even report shit Why even bother communica...   \n",
       "1876                                  Homeless yet again   \n",
       "64105  And here arrives a second parkchester ending t...   \n",
       "41185  Ok thanks What is the eta for tangible signal ...   \n",
       "\n",
       "                                               eval_text  \n",
       "3637   RT our crew process cut away remov fallen tree...  \n",
       "48921  good even there residu delay follow earlier in...  \n",
       "16495           what statu jam bound J At chamber street  \n",
       "18397     We see anoth bu approach kew garden shortli RT  \n",
       "76144  thank dure late night 2 train make stop 96 St ...  \n",
       "48221  sorri delay show northbound R train went area ...  \n",
       "14499  whi even report shit whi even bother commun mt...  \n",
       "1876                                        homeless yet  \n",
       "64105  and arriv second parkchest end train get pelha...  \n",
       "41185   Ok thank what eta tangibl signal improv Is decad  "
      ]
     },
     "execution_count": 33,
     "metadata": {},
     "output_type": "execute_result"
    }
   ],
   "source": [
    "# clean tweet with function i found online\n",
    "def clean_tweet(tweet): \n",
    "    ''' \n",
    "    Utility function to clean tweet text by removing links, special characters \n",
    "    using simple regex statements. \n",
    "    '''\n",
    "    x = ' '.join(re.sub(\"(@[A-Za-z0-9]+)|([^0-9A-Za-z \\t]) | (\\w+:\\/\\/\\S+)\", \" \", tweet).split())\n",
    "    cleaned = re.sub(r'[^\\x00-\\x7f]',r'', re.sub(r'https:\\/\\/t.co\\/[A-z0-9]*', '', x))\n",
    "    #take out the hashtags\n",
    "    without_hashtags = re.sub(r'[^\\x00-\\x7f]',r'', re.sub(r'\\#[A-z0-9]*', '', cleaned))\n",
    "    # or you can remove it by applying: .decode('utf8').encode('ascii', errors='ignore')\n",
    "    return without_hashtags\n",
    "\n",
    "# tokenize and shit\n",
    "def tokenize_and_stem(row):\n",
    "    \n",
    "    # remove punctuations\n",
    "    i = re.sub(r'[^\\w\\s]','',row)    \n",
    "    # tokenize the words in the short reviews first\n",
    "    words = word_tokenize(i)\n",
    "    # remove stop words\n",
    "    filtered = [ps.stem(w) for w in words if not w in stop_words]\n",
    "    return ' '.join(filtered)\n",
    "\n",
    "\n",
    "eval_df['cleaned'] = eval_df['tweet_text'].apply(lambda x: clean_tweet(x))\n",
    "# remove neutral\n",
    "eval_df['eval_text'] = eval_df['cleaned'].apply(lambda x: tokenize_and_stem(x))\n",
    "\n",
    "eval_df.sample(10)"
   ]
  },
  {
   "cell_type": "code",
   "execution_count": 34,
   "metadata": {},
   "outputs": [
    {
     "data": {
      "text/plain": [
       "array([[ '@NYCTSubway @SarahMeyerNYC It\\xe2\\x80\\x99s been out for days. Should never be that long. Also, the escalator from the LIRR to\\xe2\\x80\\xa6 https://t.co/WDHdbklagj',\n",
       "        u'it day should never long also escal lirr'],\n",
       "       [ \"@NYCTSubway I'm glad I got it fix!! I consider my self from now on enforcer activist of subway shenanigans\",\n",
       "        u'Im glad I got fix I consid self enforc activist subway shenanigan'],\n",
       "       [ '@NYCTSubway Where is the Fourth R179 A train . I am at Beach 60 St waiting go to Manhattan 14 St 8 Ave from Clinton',\n",
       "        u'where fourth r179 A train I beach 60 St wait go manhattan 14 St 8 ave clinton'],\n",
       "       ['@NYCTSubway Where is the Fourth R179 A train is now from CLINTON',\n",
       "        'where fourth r179 A train clinton'],\n",
       "       [ '@NYCTSubway I am in Far Rockaway right now.  I waiting on the R179 A train to go to 14 St from Clinton',\n",
       "        u'I far rockaway right I wait r179 A train go 14 St clinton'],\n",
       "       [ '@NYCTSubway can I please get someone to call me back re: easypay metro? I\\xe2\\x80\\x99ve been on hold for the past half day. Thanks',\n",
       "        u'I pleas get someon call back easypay metro ive hold past half day thank'],\n",
       "       [ '@NYCTSubway Transit why your people coming here early in the morning so late at night making noise and people could\\xe2\\x80\\xa6 https://t.co/nZcBIV3wJt',\n",
       "        u'transit peopl come earli morn late night make nois peopl could'],\n",
       "       [ '@NYCTSubway Give me your Cell phone number so I can contact you so I can get it back to Far Rockaway later today ok from Clinton',\n",
       "        'give cell phone number I contact I get back far rockaway later today ok clinton'],\n",
       "       ['@NYCTSubway https://t.co/b6xn7KSYqs', ''],\n",
       "       [ \"@NYCTSubway Entrance to 103. There MIGHT be some at 96. But I didn't seem them.\",\n",
       "        u'entranc 103 there might 96 but I didnt seem'],\n",
       "       [ '@NYCTSubway I know the R179 A train is at Mott Ave. WHERE is the Two of R179 A train is now from CLINTON',\n",
       "        'I know r179 A train mott ave where two r179 A train clinton'],\n",
       "       [ '@NYCTSubway This happens way to often. A hard working New Yorker should not have to deal with this in their morning commute.',\n",
       "        u'thi happen way often A hard work new yorker deal morn commut'],\n",
       "       [ '@NYCTSubway Where is the R179 A train is now in Hoyt St.  I am in the R179 A train heading to JFK AIRPORT GOING TO 14 ST 8 Ave from Clinton',\n",
       "        u'where r179 A train hoyt St I r179 A train head jfk airport go TO 14 ST 8 ave clinton'],\n",
       "       ['@NYCTSubway This is on the 1 line. I took the pic just 10 mins ago.',\n",
       "        u'thi 1 line I took pic 10 min ago'],\n",
       "       [ '@NYCTSubway what\\xe2\\x80\\x99s up with the L right now? Been waiting at first Ave for over 10 mins not sure what\\xe2\\x80\\x99s happening',\n",
       "        u'what L right been wait first ave 10 min sure what happen'],\n",
       "       [ '@NYCTSubway Unfortunately I didn\\xe2\\x80\\x99t think to grab the car number. Instead, I sat crying on the 145th st platform wai\\xe2\\x80\\xa6 https://t.co/PdQkrWA8Ml',\n",
       "        u'unfortun I didnt think grab car number instead I sat cri 145th st platform wai'],\n",
       "       [ '@NYCTSubway Where is the R179 A train is now in 14 St.  I am in the R179 A train heading to Broadway Junction GOING\\xe2\\x80\\xa6 https://t.co/BliHSr9PrO',\n",
       "        u'where r179 A train 14 St I r179 A train head broadway junction go'],\n",
       "       [ '@NYCTSubway Still not fixed. My L train skipped Jefferson and Dekalb Avenue. Now I have to wait for the train to go backwards.',\n",
       "        u'still fix My L train skip jefferson dekalb avenu now I wait train go backward'],\n",
       "       [ '@NYCTSubway Everyone can now literally get on the gay train! And still maintain their OWN sexuality! Shocking how t\\xe2\\x80\\xa6 https://t.co/NNyOLkRmLl',\n",
       "        u'everyon liter get gay train and still maintain own sexual shock'],\n",
       "       ['@NYCTSubway W 125th. Still no bus!!', u'W 125th still bu']], dtype=object)"
      ]
     },
     "execution_count": 34,
     "metadata": {},
     "output_type": "execute_result"
    }
   ],
   "source": [
    "eval_df.loc[(eval_df.in_reply_to=='NYCTSubway')][['tweet_text','eval_text']].tail(20).values"
   ]
  },
  {
   "cell_type": "code",
   "execution_count": 35,
   "metadata": {
    "collapsed": true
   },
   "outputs": [],
   "source": [
    "# column to predict\n",
    "\n",
    "save_classifier = open(\"master_naive_bayes_june22.pickle\", \"wb\")\n",
    "pickle.dump(clf, save_classifier)\n",
    "save_classifier.close()\n",
    "\n",
    "#Loading the saved model with joblib\n",
    "classifier_f = open(\"master_naive_bayes_june22.pickle\", \"rb\")\n",
    "classifier = pickle.load(classifier_f)\n",
    "classifier_f.close()\n"
   ]
  },
  {
   "cell_type": "code",
   "execution_count": 3,
   "metadata": {},
   "outputs": [],
   "source": [
    "def sklearn_naive_bayes(train, cat, n_features):\n",
    "    vect = TfidfVectorizer(ngram_range=(1, 2), max_features=n_features)\n",
    "    X = vect.fit_transform(train)\n",
    "    y = cat\n",
    "\n",
    "    #Partitioning the data into test and training set\n",
    "    SPLIT_PERC = 0.75\n",
    "    split_size = int(len(y)*SPLIT_PERC)\n",
    "\n",
    "    X_train = X[:split_size]\n",
    "    X_test = X[split_size:]\n",
    "    y_train = y[:split_size]\n",
    "    y_test = y[split_size:]\n",
    "\n",
    "    #Training the model\n",
    "    clf = MultinomialNB()\n",
    "    clf.fit(X_train, y_train)\n",
    "\n",
    "    #Evaluating the results\n",
    "    print(\"Accuracy on training set:\")\n",
    "    print(clf.score(X_train, y_train))\n",
    "    print(\"Accuracy on testing set:\")\n",
    "    print(clf.score(X_test, y_test))\n",
    "    y_pred = clf.predict(X_test)\n",
    "    print(\"Classification Report:\")\n",
    "    print(metrics.classification_report(y_test, y_pred))"
   ]
  },
  {
   "cell_type": "code",
   "execution_count": 4,
   "metadata": {
    "scrolled": false
   },
   "outputs": [
    {
     "ename": "NameError",
     "evalue": "name 'eval_df' is not defined",
     "output_type": "error",
     "traceback": [
      "\u001b[0;31m---------------------------------------------------------------------------\u001b[0m",
      "\u001b[0;31mNameError\u001b[0m                                 Traceback (most recent call last)",
      "\u001b[0;32m<ipython-input-4-3779cfb79d45>\u001b[0m in \u001b[0;36m<module>\u001b[0;34m\u001b[0m\n\u001b[1;32m      1\u001b[0m \u001b[0;31m# # New data to predict\u001b[0m\u001b[0;34m\u001b[0m\u001b[0;34m\u001b[0m\u001b[0;34m\u001b[0m\u001b[0m\n\u001b[1;32m      2\u001b[0m \u001b[0;34m\u001b[0m\u001b[0m\n\u001b[0;32m----> 3\u001b[0;31m \u001b[0mpred_col\u001b[0m \u001b[0;34m=\u001b[0m \u001b[0meval_df\u001b[0m\u001b[0;34m.\u001b[0m\u001b[0mloc\u001b[0m\u001b[0;34m[\u001b[0m\u001b[0;34m(\u001b[0m\u001b[0meval_df\u001b[0m\u001b[0;34m.\u001b[0m\u001b[0min_reply_to\u001b[0m\u001b[0;34m==\u001b[0m\u001b[0;34m'NYCTSubway'\u001b[0m\u001b[0;34m)\u001b[0m\u001b[0;34m]\u001b[0m\u001b[0;34m[\u001b[0m\u001b[0;34m[\u001b[0m\u001b[0;34m'eval_text'\u001b[0m\u001b[0;34m]\u001b[0m\u001b[0;34m]\u001b[0m\u001b[0;34m.\u001b[0m\u001b[0mtail\u001b[0m\u001b[0;34m(\u001b[0m\u001b[0;36m20\u001b[0m\u001b[0;34m)\u001b[0m\u001b[0;34m\u001b[0m\u001b[0;34m\u001b[0m\u001b[0m\n\u001b[0m\u001b[1;32m      4\u001b[0m \u001b[0;34m\u001b[0m\u001b[0m\n\u001b[1;32m      5\u001b[0m \u001b[0mpredictions\u001b[0m \u001b[0;34m=\u001b[0m \u001b[0;34m[\u001b[0m\u001b[0;34m]\u001b[0m\u001b[0;34m\u001b[0m\u001b[0;34m\u001b[0m\u001b[0m\n",
      "\u001b[0;31mNameError\u001b[0m: name 'eval_df' is not defined"
     ]
    }
   ],
   "source": [
    "# # New data to predict\n",
    "\n",
    "pred_col = eval_df.loc[(eval_df.in_reply_to=='NYCTSubway')][['eval_text']].tail(20)\n",
    "\n",
    "predictions = []\n",
    "\n",
    "# for i in pred_col:\n",
    "#     x = vect.transform(i)\n",
    "#     predictions.append(classifier.predict(x))\n",
    "\n",
    "pred_col.apply(lambda x: predictions.append(classifier.predict(vect.transform(x))))\n",
    "    \n",
    "pred_col['predictions'] = predictions[0]"
   ]
  },
  {
   "cell_type": "code",
   "execution_count": 70,
   "metadata": {},
   "outputs": [
    {
     "data": {
      "text/plain": [
       "array([[u'it day should never long also escal lirr', 'positive'],\n",
       "       [u'Im glad I got fix I consid self enforc activist subway shenanigan',\n",
       "        'positive'],\n",
       "       [ u'where fourth r179 A train I beach 60 St wait go manhattan 14 St 8 ave clinton',\n",
       "        'negative'],\n",
       "       ['where fourth r179 A train clinton', 'negative'],\n",
       "       [u'I far rockaway right I wait r179 A train go 14 St clinton',\n",
       "        'negative'],\n",
       "       [ u'I pleas get someon call back easypay metro ive hold past half day thank',\n",
       "        'negative'],\n",
       "       [u'transit peopl come earli morn late night make nois peopl could',\n",
       "        'negative'],\n",
       "       [ 'give cell phone number I contact I get back far rockaway later today ok clinton',\n",
       "        'negative'],\n",
       "       ['', 'negative'],\n",
       "       [u'entranc 103 there might 96 but I didnt seem', 'negative'],\n",
       "       ['I know r179 A train mott ave where two r179 A train clinton',\n",
       "        'negative'],\n",
       "       [u'thi happen way often A hard work new yorker deal morn commut',\n",
       "        'positive'],\n",
       "       [ u'where r179 A train hoyt St I r179 A train head jfk airport go TO 14 ST 8 ave clinton',\n",
       "        'negative'],\n",
       "       [u'thi 1 line I took pic 10 min ago', 'negative'],\n",
       "       [u'what L right been wait first ave 10 min sure what happen',\n",
       "        'negative'],\n",
       "       [ u'unfortun I didnt think grab car number instead I sat cri 145th st platform wai',\n",
       "        'negative'],\n",
       "       [u'where r179 A train 14 St I r179 A train head broadway junction go',\n",
       "        'negative'],\n",
       "       [ u'still fix My L train skip jefferson dekalb avenu now I wait train go backward',\n",
       "        'negative'],\n",
       "       [u'everyon liter get gay train and still maintain own sexual shock',\n",
       "        'negative'],\n",
       "       [u'W 125th still bu', 'negative']], dtype=object)"
      ]
     },
     "execution_count": 70,
     "metadata": {},
     "output_type": "execute_result"
    }
   ],
   "source": [
    "pred_col.values"
   ]
  },
  {
   "cell_type": "markdown",
   "metadata": {
    "collapsed": true
   },
   "source": [
    "well.....we did it. we applied the model to new data.\n",
    "\n",
    "I think we want to add neutral classification in the model. Many of the NYCTSubway tweets aren't positive or negative."
   ]
  },
  {
   "cell_type": "code",
   "execution_count": null,
   "metadata": {
    "collapsed": true
   },
   "outputs": [],
   "source": []
  }
 ],
 "metadata": {
  "kernelspec": {
   "display_name": "Python 3",
   "language": "python",
   "name": "python3"
  },
  "language_info": {
   "codemirror_mode": {
    "name": "ipython",
    "version": 3
   },
   "file_extension": ".py",
   "mimetype": "text/x-python",
   "name": "python",
   "nbconvert_exporter": "python",
   "pygments_lexer": "ipython3",
   "version": "3.7.1"
  }
 },
 "nbformat": 4,
 "nbformat_minor": 2
}
